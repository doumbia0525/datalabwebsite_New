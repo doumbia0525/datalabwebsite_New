{
 "cells": [
  {
   "cell_type": "markdown",
   "metadata": {},
   "source": [
    "**Avant de débuter ce TP** :\n",
    "\n",
    "1. **Changez le type d'exécution sur Google Colab** : `Exécution > Modifiez le type d'exécution > T4 GPU`\n",
    "2. **Installez les paquets ci-dessous** :"
   ]
  },
  {
   "cell_type": "code",
   "execution_count": null,
   "metadata": {},
   "outputs": [],
   "source": [
    "! pip install lightning torchmetrics torchinfo pyconll"
   ]
  },
  {
   "cell_type": "markdown",
   "metadata": {},
   "source": [
    "3. Exécutez ce code pour supprimer quelques messages et avertissements éventuellement affichés."
   ]
  },
  {
   "cell_type": "code",
   "execution_count": 2,
   "metadata": {},
   "outputs": [],
   "source": [
    "import logging\n",
    "logging.getLogger(\"lightning\").setLevel(logging.ERROR)\n",
    "logging.getLogger(\"lightning.pytorch.utilities.rank_zero\").setLevel(logging.WARNING)\n",
    "logging.getLogger(\"lightning.pytorch.accelerators.cuda\").setLevel(logging.WARNING)\n",
    "logger = logging.getLogger(\"lightning\")\n",
    "logger.propagate = False\n",
    "\n",
    "import warnings\n",
    "warnings.filterwarnings(\"ignore\", \".*does not have many workers.*\")\n",
    "warnings.filterwarnings(\"ignore\", \".*Missing logger folder.*\")"
   ]
  },
  {
   "cell_type": "markdown",
   "metadata": {},
   "source": [
    "# Exercice de grammaire par réseau de neurones récurrent\n",
    "\n",
    "Dans ce notebook, nous allons travailler sur le jeu de données [noun verb](https://github.com/google-research-datasets/noun-verb).\n",
    "Ce jeu de données contient des phrases en anglais naturelles où il peut y avoir une certaine ambiguïté sur le rôle d'un mot, c'est-à-dire de savoir s'il s'agit d'un nom ou d'un verbe.\n",
    "\n",
    "Vous trouverez ci-dessous quelques observations de ce jeu de données illustrant la tâche. Le mot en gras est le mot à classer et le mot en italique après la phrase indique la bonne réponse :\n",
    "\n",
    "> Certain insects can damage plumerias, such as mites, **flies**, or aphids. *NOUN*\n",
    "\n",
    "> **Mark** which area you want to distress. *VERB*\n",
    "\n",
    "Par exemple, le mot **flies** peut correspondre à la troisième personne au singulier du verbe *fly* (par exemple *time flies by so fast*), mais également au pluriel du nom *fly* (mouche).\n",
    "De même, le mot **mark** peut correspondre au verbe *mark* (marquer) ou au nom *mark* (marque).\n",
    "\n",
    "Le tâche est donc une classification binaire car il n'y a que deux classes possibles : *nom* ou *verbe*."
   ]
  },
  {
   "cell_type": "markdown",
   "metadata": {},
   "source": [
    "## (Télé)chargement du jeu de données\n",
    "\n",
    "Le jeu de données est déjà séparé en trois jeux d'entraînement, de validation et d'évaluation.\n",
    "Les fichiers correspondants (`train.conll`, `dev.conll` and `test.conll`) sont disponibles sur ce [dépôt GitHub](https://github.com/google-research-datasets/noun-verb).\n",
    "La fonction `load_dataset` permet de charger (et télécharger si besoin) les trois jeux de données."
   ]
  },
  {
   "cell_type": "code",
   "execution_count": 3,
   "metadata": {},
   "outputs": [],
   "source": [
    "def load_dataset(path='data'):\n",
    "    \"\"\"Load the noun verb dataset.\n",
    "\n",
    "    Parameters\n",
    "    ----------\n",
    "    path : str\n",
    "        Chemin du répertoire.\n",
    "\n",
    "    Returns\n",
    "    -------\n",
    "    train : Conll\n",
    "        Jeu d'entraînement.\n",
    "\n",
    "    validation : Conll\n",
    "        Jeu de validation.\n",
    "\n",
    "    test : Conll\n",
    "        Jeu d'évaluation.\n",
    "\n",
    "    \"\"\"\n",
    "    import os\n",
    "    import pyconll\n",
    "    from urllib.request import urlretrieve\n",
    "\n",
    "    if not os.path.exists(path):\n",
    "        os.makedirs(path)\n",
    "\n",
    "    files = ('train.conll', 'dev.conll', 'test.conll')\n",
    "\n",
    "    # Downloads the files if necessary\n",
    "    for file in files:\n",
    "        if not os.path.isfile(os.path.join(path, file)):\n",
    "            url = f'https://raw.githubusercontent.com/google-research-datasets/noun-verb/master/{file}'\n",
    "            urlretrieve(url, os.path.join(path, file))\n",
    "\n",
    "    return (pyconll.load_from_file(os.path.join(path, file)) for file in files)"
   ]
  },
  {
   "cell_type": "markdown",
   "metadata": {},
   "source": [
    "Il suffit d'exécuter la fonction pour (télé)charger les trois jeux de données :"
   ]
  },
  {
   "cell_type": "code",
   "execution_count": 4,
   "metadata": {},
   "outputs": [],
   "source": [
    "train, validation, test = load_dataset()"
   ]
  },
  {
   "cell_type": "markdown",
   "metadata": {},
   "source": [
    "Visualisons la tâche d'apprentissage automatique.\n",
    "La fonction `print_sample()` affiche l'observation d'un jeu de données correspondant à l'indice fourni."
   ]
  },
  {
   "cell_type": "code",
   "execution_count": 5,
   "metadata": {},
   "outputs": [],
   "source": [
    "def print_sample(dataset, idx):\n",
    "    \"\"\"Affiche une observation d'un jeu de données.\n",
    "\n",
    "    Parameters\n",
    "    ----------\n",
    "    dataset : Conll\n",
    "        Dataset.\n",
    "\n",
    "    idx : int\n",
    "        Indice de l'observation à afficher.\n",
    "\n",
    "    \"\"\"\n",
    "    import re\n",
    "\n",
    "    if not 0 <= idx < len(dataset):\n",
    "        raise ValueError(\"Invalid index.\")\n",
    "\n",
    "    label = None\n",
    "    index = None\n",
    "\n",
    "    for i, token in enumerate(dataset[idx]):\n",
    "        if len(token.feats):\n",
    "            if label is not None:\n",
    "                raise ValueError(\"Invalid sample. Try another index.\")\n",
    "            label = next(iter(token.feats['POS']))\n",
    "            index = i\n",
    "\n",
    "    if label is None:\n",
    "        raise ValueError(\"Invalid sample. Try another index.\")\n",
    "\n",
    "    sentence = ' '.join([token.form for token in dataset[idx]])\n",
    "\n",
    "    # Punctuation formatting\n",
    "    for char in \",:;.?!)'\":\n",
    "        pattern = f' *\\\\{char}' if char in '.?)' else f' *{char}'\n",
    "        sentence = re.sub(pattern, char, sentence)\n",
    "\n",
    "    for char in \"(`\":\n",
    "        pattern = f'\\\\{char} *' if char in '(' else f'{char} *'\n",
    "        sentence = re.sub(pattern, char, sentence)\n",
    "\n",
    "    res = 'Sentence' + '\\n' + '=' * 8 + '\\n'\n",
    "    res += sentence\n",
    "    res += '\\n\\n' + 'Word' + '\\n' + \"=\" * 4 + '\\n'\n",
    "    res += dataset[idx][index].form + f' (at position {index})'\n",
    "    res += '\\n\\n' + 'Label' + '\\n' + \"=\" * 5 + '\\n'\n",
    "    res += label\n",
    "\n",
    "    print(res)"
   ]
  },
  {
   "cell_type": "markdown",
   "metadata": {},
   "source": [
    "### Question 1\n",
    "\n",
    "Exécutez cette fonction pour afficher quelques observations des jeux d'entraînement, de validation et d'évaluation. "
   ]
  },
  {
   "cell_type": "code",
   "execution_count": 6,
   "metadata": {},
   "outputs": [
    {
     "name": "stdout",
     "output_type": "stream",
     "text": [
      "Sentence\n",
      "========\n",
      "License plates of cars from your area or your destination.\n",
      "\n",
      "Word\n",
      "====\n",
      "License (at position 0)\n",
      "\n",
      "Label\n",
      "=====\n",
      "NON-VERB\n"
     ]
    }
   ],
   "source": [
    "print_sample(train, 0)"
   ]
  },
  {
   "cell_type": "code",
   "execution_count": 7,
   "metadata": {},
   "outputs": [
    {
     "name": "stdout",
     "output_type": "stream",
     "text": [
      "Sentence\n",
      "========\n",
      "Once you have the new glass, cleaning and replacing it is all that's left.\n",
      "\n",
      "Word\n",
      "====\n",
      "cleaning (at position 7)\n",
      "\n",
      "Label\n",
      "=====\n",
      "VERB\n"
     ]
    }
   ],
   "source": [
    "print_sample(validation, 0)"
   ]
  },
  {
   "cell_type": "code",
   "execution_count": 8,
   "metadata": {},
   "outputs": [
    {
     "name": "stdout",
     "output_type": "stream",
     "text": [
      "Sentence\n",
      "========\n",
      "Retail goods were seldom sold with shipping any faster than overnight.\n",
      "\n",
      "Word\n",
      "====\n",
      "shipping (at position 6)\n",
      "\n",
      "Label\n",
      "=====\n",
      "NON-VERB\n"
     ]
    }
   ],
   "source": [
    "print_sample(test, 0)"
   ]
  },
  {
   "cell_type": "markdown",
   "metadata": {},
   "source": [
    "## Représentations vectorielles de mots\n",
    "\n",
    "La tâche à effectuer relève du **traitement automatique des langues** car les données en entrée sont des phrases (en anglais).\n",
    "Une phrase est une séquence de **tokens**.\n",
    "Un token est une unité d'une langue.\n",
    "Par exemple, les mots sont des tokens, mais les signes de ponctuation (virgule, point d'exclamation, etc.) sont également des tokens.\n",
    "Cependant, il n'est pas pratique de travailler directement avec des tokens : les modèles d'apprentissage automatique sont des fonctions mathématiques dont les entrées sont *numériques*.\n",
    "Il est néamoins possible de **transformer les tokens en vecteurs numériques**.\n",
    "De telles représentations sont connues en anglais sous le terme *embeddings* et nous utiliserons le terme **représentations vectorielles** en français.\n",
    "\n",
    "Une approche triviale serait de transformer chaque mot en un vecteur ne contenant que des zéros à part pour un élément dont la valeur serait 1.\n",
    "Cette approche est connue en apprentissage automatique sous le terme **encodage *one-hot*** et peut être utilisée pour transformer une variable catégorielle en plusieurs variables binaires.\n",
    "Cependant, cette approche a de nombreux inconvénients :\n",
    "\n",
    "* Il y a de nombreux mots différents dans une langue, par exemple des centaines de milliers en anglais et en français.\n",
    "* Les données ont été transformées, mais aucune information pertinente n'a été extraite dans cete représentation.\n",
    "\n",
    "Une approche plus utile est de **transformer un mot en un vecteur numérique dense de petite dimension**.\n",
    "Ici, nous n'allons pas apprendre nous-mêmes ces représentations, mais nous allons utiliser des représentations disponibles publiquement qui ont été apprises sur des jeux de données très grands.\n",
    "\n",
    "Une collection de telles représentations est connue sous le nom de [GloVe](https://nlp.stanford.edu/projects/glove/) (pour *Global Vectors for Word Representation*).\n",
    "Il existe plusieurs versions de ces représentations qui dépendent des jeux de données sur lesquels ces modèles ont été entraînés et de la taille des représentations.\n",
    "Nous allons utiliser la première version de GloVe, qui a été entraîné sur Wikipedia et sur des articles de presse.\n",
    "Il existe quatre versions pour les représentations avec des dimensions différentes : $50$, $100$, $200$ et $300$.\n",
    "\n",
    "La commande ci-dessous permet de télécharger l'archive contenant les représentations dans les quatre différentes tailles de dimension."
   ]
  },
  {
   "cell_type": "code",
   "execution_count": 9,
   "metadata": {},
   "outputs": [
    {
     "name": "stdout",
     "output_type": "stream",
     "text": [
      "--2025-05-02 19:24:03--  https://nlp.stanford.edu/data/glove.6B.zip\n",
      "Résolution de nlp.stanford.edu (nlp.stanford.edu)… 171.64.67.140\n",
      "Connexion à nlp.stanford.edu (nlp.stanford.edu)|171.64.67.140|:443… connecté.\n",
      "requête HTTP transmise, en attente de la réponse… 301 Moved Permanently\n",
      "Emplacement : https://downloads.cs.stanford.edu/nlp/data/glove.6B.zip [suivant]\n",
      "--2025-05-02 19:24:04--  https://downloads.cs.stanford.edu/nlp/data/glove.6B.zip\n",
      "Résolution de downloads.cs.stanford.edu (downloads.cs.stanford.edu)… 171.64.64.22\n",
      "Connexion à downloads.cs.stanford.edu (downloads.cs.stanford.edu)|171.64.64.22|:443… connecté.\n",
      "requête HTTP transmise, en attente de la réponse… 200 OK\n",
      "Taille : 862182613 (822M) [application/zip]\n",
      "Sauvegarde en : « glove.6B.zip »\n",
      "\n",
      "glove.6B.zip         80%[===============>    ] 664,56M  --.-KB/s    ds 30m 55s \n",
      "\n",
      "2025-05-02 19:54:59 (367 KB/s) — Erreur de lecture à l’octet 696844024/862182613 (Operation timed out). Nouvel essai.\n",
      "\n",
      "--2025-05-02 19:55:00--  (essai :  2)  https://downloads.cs.stanford.edu/nlp/data/glove.6B.zip\n",
      "Connexion à downloads.cs.stanford.edu (downloads.cs.stanford.edu)|171.64.64.22|:443… connecté.\n",
      "requête HTTP transmise, en attente de la réponse… 206 Partial Content\n",
      "Taille : 862182613 (822M), 165338589 (158M) restant [application/zip]\n",
      "Sauvegarde en : « glove.6B.zip »\n",
      "\n",
      "glove.6B.zip        100%[++++++++++++++++===>] 822,24M  1,25MB/s    ds 3m 18s  \n",
      "\n",
      "2025-05-02 19:58:19 (815 KB/s) — « glove.6B.zip » sauvegardé [862182613/862182613]\n",
      "\n",
      "Archive:  glove.6B.zip\n",
      "  inflating: glove.6B.50d.txt        \n",
      "  inflating: glove.6B.100d.txt       \n",
      "  inflating: glove.6B.200d.txt       \n",
      "  inflating: glove.6B.300d.txt       \n"
     ]
    }
   ],
   "source": [
    "! cd data && wget https://nlp.stanford.edu/data/glove.6B.zip && unzip glove.6B.zip"
   ]
  },
  {
   "cell_type": "markdown",
   "metadata": {},
   "source": [
    "Nous allons utiliser les représentations les plus petites, c'est-à-dire en dimension $50$. **En résumé, nous allons transformer chaque token en un vecteur numérique dense de dimension 50**.\n",
    "\n",
    "Pour les tokens qui ne font pas partie du vocabulaire du jeu d'entraînement, on va créer un token spécifique, appelé `out_of_vocabulary`, que l'on va calculer comme le vecteur moyen de toutes les représentations.\n",
    "\n",
    "La fonction `load_embeddings()` charge les données dans un dictionnaire et calcule la représentation moyenne pour le token `out_of_vocabulary`.\n",
    "Chaque clé du dictionnaire est un token et sa valeur est la représentation vectorielle de ce token. "
   ]
  },
  {
   "cell_type": "code",
   "execution_count": 10,
   "metadata": {},
   "outputs": [],
   "source": [
    "import numpy as np\n",
    "import torch\n",
    "\n",
    "\n",
    "def load_embeddings(path='data'):\n",
    "    \"\"\"Charge les représentations vectorielles GloVe 50d.\n",
    "\n",
    "    Parameters\n",
    "    ----------\n",
    "    path : str\n",
    "        Chemin du le répertoire.\n",
    "\n",
    "    Returns\n",
    "    -------\n",
    "    embeddings : dict\n",
    "        Représentations vectorielles GloVe 50d.\n",
    "\n",
    "    \"\"\"\n",
    "    import os\n",
    "\n",
    "    # Save the results in a dictionary\n",
    "    embeddings = {}\n",
    "\n",
    "    # Get the embedding for each token in the file\n",
    "    mean = torch.zeros(50, dtype=torch.float32)\n",
    "    with open(os.path.join(path, 'glove.6B.50d.txt'), 'r') as file:\n",
    "        for line in file.readlines():\n",
    "            split = line.strip().split(' ')\n",
    "            token = split[0]\n",
    "            value = torch.from_numpy(np.array(split[1:], dtype=np.float32))\n",
    "            embeddings[token] = value\n",
    "            mean += value\n",
    "\n",
    "    # Define the mean embedding for out-of-vocabulary token\n",
    "    embeddings['out_of_vocabulary'] = mean / len(embeddings)\n",
    "\n",
    "    return embeddings"
   ]
  },
  {
   "cell_type": "markdown",
   "metadata": {},
   "source": [
    "On exécute cette fonction pour (télé)charger ces représentations vectorielles de mots anglais."
   ]
  },
  {
   "cell_type": "code",
   "execution_count": 11,
   "metadata": {},
   "outputs": [],
   "source": [
    "embeddings = load_embeddings()"
   ]
  },
  {
   "cell_type": "markdown",
   "metadata": {},
   "source": [
    "### Question 2\n",
    "\n",
    "Affichez les représentations vectorielles de quelques mots anglais courants.\n",
    "\n",
    "> **Remarque** : Tous les mots dans le dictionnaire sont en minuscules."
   ]
  },
  {
   "cell_type": "code",
   "execution_count": 12,
   "metadata": {},
   "outputs": [
    {
     "data": {
      "text/plain": [
       "tensor([ 4.1800e-01,  2.4968e-01, -4.1242e-01,  1.2170e-01,  3.4527e-01,\n",
       "        -4.4457e-02, -4.9688e-01, -1.7862e-01, -6.6023e-04, -6.5660e-01,\n",
       "         2.7843e-01, -1.4767e-01, -5.5677e-01,  1.4658e-01, -9.5095e-03,\n",
       "         1.1658e-02,  1.0204e-01, -1.2792e-01, -8.4430e-01, -1.2181e-01,\n",
       "        -1.6801e-02, -3.3279e-01, -1.5520e-01, -2.3131e-01, -1.9181e-01,\n",
       "        -1.8823e+00, -7.6746e-01,  9.9051e-02, -4.2125e-01, -1.9526e-01,\n",
       "         4.0071e+00, -1.8594e-01, -5.2287e-01, -3.1681e-01,  5.9213e-04,\n",
       "         7.4449e-03,  1.7778e-01, -1.5897e-01,  1.2041e-02, -5.4223e-02,\n",
       "        -2.9871e-01, -1.5749e-01, -3.4758e-01, -4.5637e-02, -4.4251e-01,\n",
       "         1.8785e-01,  2.7849e-03, -1.8411e-01, -1.1514e-01, -7.8581e-01])"
      ]
     },
     "execution_count": 12,
     "metadata": {},
     "output_type": "execute_result"
    }
   ],
   "source": [
    "embeddings['the']"
   ]
  },
  {
   "cell_type": "code",
   "execution_count": 13,
   "metadata": {},
   "outputs": [
    {
     "data": {
      "text/plain": [
       "tensor([-1.2300,  0.5334, -0.5474,  0.7492,  0.0514, -0.0492,  0.3764,  0.1278,\n",
       "        -1.2388, -0.1074,  0.6666, -0.0176, -0.7533,  1.1521,  0.7994, -0.7221,\n",
       "        -0.0103,  1.1645, -0.6130,  0.0896,  0.1537, -0.5346, -0.3841,  1.1418,\n",
       "         0.0992, -0.9156, -0.8442, -1.0483, -1.0846, -0.1507,  1.2818, -0.3466,\n",
       "        -0.1552, -0.2263, -0.6132,  0.7580, -0.2891,  1.0317, -0.3066, -0.7005,\n",
       "         0.7052, -0.5768, -0.0880,  0.6581,  0.0929,  0.3469,  1.1974,  0.2684,\n",
       "        -0.8472, -0.5815])"
      ]
     },
     "execution_count": 13,
     "metadata": {},
     "output_type": "execute_result"
    }
   ],
   "source": [
    "embeddings['chess']"
   ]
  },
  {
   "cell_type": "code",
   "execution_count": 14,
   "metadata": {},
   "outputs": [
    {
     "data": {
      "text/plain": [
       "tensor([ 0.2754,  0.4626,  0.1040, -1.1060,  0.3350, -0.2701,  0.2974,  0.2111,\n",
       "         0.0397,  0.3216, -0.8549,  0.6873, -0.8040,  0.4050,  0.8508,  0.1374,\n",
       "         0.9749,  0.3629, -0.5528,  0.1289, -0.2328,  0.0035,  0.4307,  0.6868,\n",
       "         0.6574, -1.2946, -1.3315,  0.3312,  1.0792, -0.6563,  1.5733, -0.0137,\n",
       "        -0.4854,  0.3714, -0.9064,  0.1826,  0.3905, -1.0533,  0.3809, -0.3286,\n",
       "        -0.1469, -0.1961, -0.8044,  0.4517,  0.0356,  0.1807,  0.2160, -1.3607,\n",
       "        -0.1665,  0.0376])"
      ]
     },
     "execution_count": 14,
     "metadata": {},
     "output_type": "execute_result"
    }
   ],
   "source": [
    "embeddings['hell']"
   ]
  },
  {
   "cell_type": "code",
   "execution_count": 15,
   "metadata": {},
   "outputs": [
    {
     "data": {
      "text/plain": [
       "tensor([ 7.6648e-01, -4.3500e-02,  1.0040e+00,  2.3024e-02, -1.3752e+00,\n",
       "        -5.9183e-01, -4.4778e-01,  9.9807e-01,  4.8704e-01, -5.8070e-01,\n",
       "        -1.3704e-01, -1.5639e-01,  4.3268e-01,  4.2912e-01, -2.6620e-02,\n",
       "        -3.4538e-01, -6.2523e-01, -5.3198e-01, -1.4654e+00, -4.0254e-01,\n",
       "        -7.6131e-01, -2.0400e-01,  3.0217e-01, -8.2802e-01,  7.8480e-01,\n",
       "        -7.4680e-01, -1.2954e-01,  4.0479e-01,  6.9253e-01,  5.6607e-01,\n",
       "         2.5380e+00,  4.3007e-02,  6.4473e-01, -7.3114e-01, -7.4961e-01,\n",
       "         2.6799e-01, -1.2653e-01, -1.2082e+00,  4.8714e-01, -4.0238e-01,\n",
       "        -1.0929e+00,  8.2982e-01,  4.1134e-01, -1.2558e+00, -1.3823e-01,\n",
       "         5.6126e-01, -6.8973e-04, -1.4938e+00, -8.3548e-02, -7.3062e-02])"
      ]
     },
     "execution_count": 15,
     "metadata": {},
     "output_type": "execute_result"
    }
   ],
   "source": [
    "embeddings['storm']"
   ]
  },
  {
   "cell_type": "markdown",
   "metadata": {},
   "source": [
    "### Question 3\n",
    "\n",
    "Les représentations vectorielles apprises sont connues pour avoir certaines structures linéaires.\n",
    "\n",
    "* Calculez la représentation vectorielle `king + (woman - man)` et comparez-la à la représentation vectorielle de `queen`.\n",
    "* Calculez la représentation vectorielle `strong + (lighter - light)` et comparez-la à la représentation vectorielle de `lighter`.\n",
    "\n",
    "Vous pouvez utiliser la fonction *similarité cosinus* pour déterminer la similitude entre deux vecteurs. La similarité cosinus est définie par :\n",
    "$$\n",
    "    \\cos(x, y) = \\frac{x^\\top y}{\\Vert x \\Vert \\Vert y \\Vert}\n",
    "$$\n",
    "Ses valeurs sont comprises dans l'intervalle $[-1, 1]$. Plus sa valeur est élevée, plus les vecteurs sont similaires.\n",
    "La fonction `cosine_similarity()` définie ci-dessous calcule la similarité cosinus entre deux tenseurs."
   ]
  },
  {
   "cell_type": "code",
   "execution_count": 16,
   "metadata": {},
   "outputs": [],
   "source": [
    "def cosine_similarity(x, y):\n",
    "    \"\"\"Calcule la similarité cosinus entre deux tenseurs.\n",
    "\n",
    "    Parameters\n",
    "    ----------\n",
    "    x, y : Tensor, shape = (embedding_size,)\n",
    "        Les deux tenseurs à comparer.\n",
    "\n",
    "    Returns\n",
    "    -------\n",
    "    float\n",
    "        La similarité cosinus entre les deux tenseurs.\n",
    "    \"\"\"\n",
    "    return ((x @ y) / ((x @ x) * (y @ y)) ** 0.5).item()"
   ]
  },
  {
   "cell_type": "code",
   "execution_count": 17,
   "metadata": {},
   "outputs": [
    {
     "data": {
      "text/plain": [
       "0.8609580993652344"
      ]
     },
     "execution_count": 17,
     "metadata": {},
     "output_type": "execute_result"
    }
   ],
   "source": [
    "cosine_similarity(\n",
    "    embeddings['king'] + embeddings['woman'] - embeddings['man'],\n",
    "    embeddings['queen']\n",
    ")"
   ]
  },
  {
   "cell_type": "code",
   "execution_count": 18,
   "metadata": {},
   "outputs": [
    {
     "data": {
      "text/plain": [
       "0.821943998336792"
      ]
     },
     "execution_count": 18,
     "metadata": {},
     "output_type": "execute_result"
    }
   ],
   "source": [
    "cosine_similarity(\n",
    "    embeddings['strong'] + embeddings['lighter'] - embeddings['light'],\n",
    "    embeddings['stronger']\n",
    ")"
   ]
  },
  {
   "cell_type": "markdown",
   "metadata": {},
   "source": [
    "## Prétraitement des données\n",
    "\n",
    "Maintenant qu'on a des représentations vectorielles pour les tokens et une meilleure compréhension des données, il est temps de prétraiter ces données.\n",
    "Pour chaque observation, on va :\n",
    "* transformer la séquence de tokens en une séquence de tenseurs,\n",
    "* récupérer le label du token à classer, et\n",
    "* récupérer l'indice du token à classer.\n",
    "\n",
    "La fonction `preprocess_dataset()` effectue ce traitement sur le jeu de données fourni en entrée et renvoie ces trois variables."
   ]
  },
  {
   "cell_type": "code",
   "execution_count": 19,
   "metadata": {},
   "outputs": [],
   "source": [
    "def preprocess_dataset(dataset):\n",
    "    \"\"\"Prétraite un jeu de données.\n",
    "\n",
    "    Parameters\n",
    "    ----------\n",
    "    dataset : Conll\n",
    "        Jeu de données.\n",
    "\n",
    "    Returns\n",
    "    -------\n",
    "    X : list[Tensors]\n",
    "        Phrases prétraitées.\n",
    "\n",
    "    y : Tensor\n",
    "        Labels rétraités.\n",
    "\n",
    "    index : Tensor\n",
    "        Indices des tokens à prédire.\n",
    "    \"\"\"\n",
    "\n",
    "    X = []\n",
    "    y = []\n",
    "    index = []\n",
    "\n",
    "    label_mapping = {'NON-VERB': 0, 'VERB': 1}\n",
    "\n",
    "    for sentence in dataset:\n",
    "\n",
    "        embedded_sentence = []\n",
    "        label = None\n",
    "        idx = None\n",
    "\n",
    "        for i, token in enumerate(sentence):\n",
    "\n",
    "            # Get the token in lower cases\n",
    "            token_lower = token.form.lower()\n",
    "\n",
    "            # Get the embedding of the token\n",
    "            if token_lower in embeddings.keys():\n",
    "                embedded_sentence.append(embeddings[token_lower].reshape(1, -1))\n",
    "            else:\n",
    "                embedded_sentence.append(embeddings['out_of_vocabulary'].reshape(1, -1))\n",
    "\n",
    "            # Get the label (if any)\n",
    "            if len(token.feats):\n",
    "                if label is not None:\n",
    "                    raise ValueError(\"Two annotated tokens in a single sentence.\")\n",
    "                label = label_mapping[next(iter(token.feats['POS']))]\n",
    "                idx = i\n",
    "\n",
    "        # Add the preprocessed sample to the dataset only if there is a label available\n",
    "        if label is not None:\n",
    "            X.append(torch.concat(embedded_sentence))\n",
    "            y.append(label)\n",
    "            index.append(idx)\n",
    "\n",
    "    y = torch.tensor(y).to(dtype=torch.float32)\n",
    "    index = torch.tensor(index).to(dtype=torch.int64)\n",
    "\n",
    "    return X, y, index"
   ]
  },
  {
   "cell_type": "markdown",
   "metadata": {},
   "source": [
    "On n'a qu'à exécuter cette fonction sur les trois jeux de données."
   ]
  },
  {
   "cell_type": "code",
   "execution_count": 20,
   "metadata": {},
   "outputs": [],
   "source": [
    "X_train, y_train, index_train = preprocess_dataset(train)\n",
    "X_val, y_val, index_val = preprocess_dataset(validation)\n",
    "X_test, y_test, index_test = preprocess_dataset(test)"
   ]
  },
  {
   "cell_type": "markdown",
   "metadata": {},
   "source": [
    "### Question 4\n",
    "\n",
    "Les tenseurs `y_train`, `y_val` et `y_test` sont des tenseurs binaires (chaque élément vaut $0$ ou $1$). Un $0$ correspond à un nom, tandis qu'un $1$ correspond à un verbe.\n",
    "Calculez la proportion de verbes sur les trois jeux pour avoir une idée de la précision (*accuracy*), c'est-à-dire la proportion de bonnes prédictions, d'un modèle trivial.\n",
    "Vous pouvez utiliser la méthode [`torch.Tensor.mean()`](https://pytorch.org/docs/stable/generated/torch.Tensor.mean.html)."
   ]
  },
  {
   "cell_type": "code",
   "execution_count": 21,
   "metadata": {},
   "outputs": [
    {
     "name": "stdout",
     "output_type": "stream",
     "text": [
      "Propotion de verbes dans le jeu d'entraînement : 63.57%\n",
      "Propotion de verbes dans le jeu de validation : 66.37%\n",
      "Propotion de verbes dans le jeu d'évaluation : 65.82%\n"
     ]
    }
   ],
   "source": [
    "print(f\"Propotion de verbes dans le jeu d'entraînement : {y_train.mean().item():.2%}\")\n",
    "print(f\"Propotion de verbes dans le jeu de validation : {y_val.mean().item():.2%}\")\n",
    "print(f\"Propotion de verbes dans le jeu d'évaluation : {y_test.mean().item():.2%}\")"
   ]
  },
  {
   "cell_type": "markdown",
   "metadata": {},
   "source": [
    "## Unité récurrente fermée bidirectionnelle \n",
    "\n",
    "### Unité récurrente fermée\n",
    "\n",
    "L'**unité récurrente fermée** est un type de couche récurrente.\n",
    "Il s'agit d'une variante simplifiée de la *longue mémoire de court terme* :\n",
    "\n",
    "* Les **portes d'oubli et d'entrée** sont fusionnées en une seule **porte de mise à jour**.\n",
    "* La **cellule de mémoire** et l'**état caché** sont fusionnés en un seul **état caché**.\n",
    "\n",
    "L'image ci-dessous résume l'architecture de l'unité récurrente fermée :\n",
    "\n",
    "[<img src=\"../figures/gru_full.png\" width=\"500\"/>](../figures/gru_full.png)\n",
    "\n",
    "### Couche récurrente bidirectionnelle\n",
    "\n",
    "On souhaite classer un mot spécifique dans une phrase donnée, soit en nom soit en verbe.\n",
    "Pour effectuer cette tâche manuellement, un humain utiliserait la phrase en entier pour classer le mot.\n",
    "Si on utilise toute la séquence de tokens dans une couche récurrente classique, le modèle ne sait pas quel mot il doit classer dans la phrase.\n",
    "À l'inverse, si $k$ est l'indice du token à classer et si on n'utilise que les $k$ premiers tokens de la séquence, les tokens suivants ne sont pas utilisés.\n",
    "Pour résoudre ce problème, on va utiliser une couche récurrente **bidirectionnelle**.\n",
    "\n",
    "Une couche récurrente bidirectionnelle considère une séquence dans les deux sens :\n",
    "* le sens avant : $ x^{(0)} \\longrightarrow x^{(1)} \\longrightarrow \\ldots \\longrightarrow x^{(t-1)} \\longrightarrow x^{(t)} $\n",
    "* le sens arrière : $ x^{(0)} \\longleftarrow x^{(1)} \\longleftarrow \\ldots \\longleftarrow x^{(t-1)} \\longleftarrow x^{(t)} $\n",
    "\n",
    "L'image ci-dessous illustre ce principe :\n",
    "\n",
    "[<img src=\"../figures/rnn_bidir.png\" width=\"300\"/>](../figures/rnn_bidir.png)\n",
    "\n",
    "\n",
    "### Opération effectuée ici\n",
    "\n",
    "**Si $k$ est l'indice du token d'intérêt, on va extraire les tenseurs $\\overrightarrow{h}^{(k)}$ (l'état caché pour le token d'intérêt dans le sens avant) et $\\overleftarrow{h}^{(k)}$ (l'état caché pour le token d'intérêt dans le sens arrière)**.\n",
    "De cette manière, on indique au modèle quel mot on souhaite classer tout en utilisant tous les mots de la phrase.\n",
    "\n",
    "L'image ci-dessous illustre l'opération effectuée ici :\n",
    "\n",
    "[<img src=\"../figures/brnn_specific_token.png\" width=\"450\"/>](../figures/brnn_specific_token.png)\n",
    "\n",
    "\n",
    "### Quelques mots sur les séquences de longueur variable\n",
    "\n",
    "Une particularité des données textuelles est que la longueur des séquences n'est pas fixe : le nombre de mots dans une phrase varie d'une phrase à l'autre.\n",
    "Quand on travaille sur un lot de séquences, on ne peut pas créer directement un nouveau tenseur en dimension supérieure contenant toutes les séquences car les séquences peuvent être de longueur différente.\n",
    "\n",
    "Pour remédier à ce problème, une solution possible est de faire du **rembourrage** pour les séquences les plus courtes.\n",
    "Ainsi, les séquences (éventuellement rembourrées) sont toutes de la même longueur et on peut les traiter efficacement en lot.\n",
    "Cependant, ce n'est qu'une **astuce computationnelle** : on ne souhaite pas utiliser le rembourrage dans le traitement.\n",
    "Par conséquent, il faut également indiquer quelles valeurs ont été rembourrées pour ne pas les traiter.\n",
    "\n",
    "PyTorch fournit des outils pour implémenter cette solution :\n",
    "\n",
    "* [`torch.nn.utils.rnn.pad_sequence()`](https://pytorch.org/docs/stable/generated/torch.nn.utils.rnn.pad_sequence.html) : cette fonction rembourre une liste de tenseurs de longueur variable.\n",
    "* [`torch.nn.utils.rnn.pack_padded_sequence()`](https://pytorch.org/docs/stable/generated/torch.nn.utils.rnn.pack_padded_sequence.html) : cette fonction emballe un tenseur contenant des séquences de longueur variable rembourrées.\n",
    "* [`torch.nn.utils.rnn.pad_packed_sequence()`](https://pytorch.org/docs/stable/generated/torch.nn.utils.rnn.pad_packed_sequence.html) : cette fonction rembourre un lot emballé de séquences de longueur variable (opération inverse de [`pack_padded_sequence()`](https://pytorch.org/docs/stable/generated/torch.nn.utils.rnn.pack_padded_sequence.html)).\n",
    "\n",
    "Voici comment utiliser ces outils :\n",
    "\n",
    "1. Lorsque vous avez affaire à des séquences de longueur variable, l'entrée d'une couche récurrente doit être une instance de [PackedSequence](https://pytorch.org/docs/stable/generated/torch.nn.utils.rnn.PackedSequence.html). Pour obtenir une telle instance de cette classe, il faut d'abord rembourrer les séquences avec `pad_sequence()` puis emballer ces séquences avec `pack_padded_sequence()`.\n",
    "2. Lorsque l'entrée d'une couche récurrente est une instance de `PackedSequence`, sa sortie est également une instance de `PackedSequence`. Il suffit de déballer ces séquences avec `pad_packed_sequence()`.\n",
    "\n",
    "Voici une illustration de l'utilisation de ces outils :\n",
    "\n",
    "```python\n",
    "import torch\n",
    "from torch.nn.utils.rnn import pad_sequence, pack_padded_sequence, pad_packed_sequence\n",
    "\n",
    "sequence1 = torch.rand(6, 50)  # une séquence de longueur 6\n",
    "sequence2 = torch.rand(10, 50)  # une séquence de longueur 10\n",
    "sequence3 = torch.rand(9, 50)  # une séquence de longueur 9\n",
    "\n",
    "sequences = [sequence1, sequence2, sequence3]\n",
    "\n",
    "# On calcule la longueur des séquences\n",
    "lens = [sequence.size()[0] for sequence in sequences]\n",
    "\n",
    "# On rembourre cette liste de séquences\n",
    "sequences_padded = pad_sequence(sequences)\n",
    "\n",
    "# On emballe ces séquences éventuellement rembourrées\n",
    "sequences_packed = pack_padded_sequence(sequences_padded, lens, enforce_sorted=False)\n",
    "\n",
    "# On rembourre les séquences emballées\n",
    "sequences_unpacked, lens_unpacked = pad_packed_sequence(sequences_packed)\n",
    "```"
   ]
  },
  {
   "cell_type": "markdown",
   "metadata": {},
   "source": [
    "### Question 5\n",
    "\n",
    "On va construire un réseau de neurones récurrent avec l'architecture suivante :\n",
    "\n",
    "* Première couche : couche GRU bidirectionnelle avec 100 variables cachées.\n",
    "* Deuxième couche : couche linéaire avec 1 variable en sortie.\n",
    "\n",
    "Quelques remarques importantes :\n",
    "\n",
    "* Comme on a un GRU bidirectionnel, l'état caché est un vecteur de taille $200 = 100 \\times 2$ car les deux tenseurs sont automatiquement concaténés.\n",
    "* On ne veut récupérer que l'état caché du token qui nous intéresse (c'est-à-dire du mot à classer).\n",
    "* Pour votre implémentation de la méthode `step()`, vous supposerez que le lot (l'argument `batch`) est une liste de tenseurs (on verra ensuite comment obtenir ce résultat).\n",
    "\n",
    "Complétez le code manquant dans les méthodes `__init__()` et `forward()` de la classe `RecurrentNeuralNetwork()`."
   ]
  },
  {
   "cell_type": "code",
   "execution_count": 22,
   "metadata": {},
   "outputs": [],
   "source": [
    "import lightning as L\n",
    "from torch.nn.utils.rnn import pad_sequence, pack_padded_sequence, pad_packed_sequence\n",
    "from torchmetrics import Accuracy\n",
    "\n",
    "\n",
    "class RecurrentNeuralNetwork(L.LightningModule):  # La classe hérite de la classe lightning.LightningModule\n",
    "\n",
    "    def __init__(self):\n",
    "        \"\"\"Constructeur.\n",
    "\n",
    "        Dans le constructeur, on exécute le constructeur de la clase mère et on définit\n",
    "        toutes les couches et fonctions d'activation de notre réseau de neurones.\n",
    "        \"\"\"\n",
    "        super().__init__()  # Toujours exécuter le constructeur de la classe mère\n",
    "\n",
    "        ### BEGIN TODO ###\n",
    "        self.gru = torch.nn.GRU(input_size=50, hidden_size=100, bidirectional=True)\n",
    "        self.linear = torch.nn.Linear(in_features=200, out_features=1)\n",
    "        ### END TODO ###\n",
    "\n",
    "        self.loss = torch.nn.BCEWithLogitsLoss()\n",
    "        self.accuracy_train = Accuracy(task=\"binary\")\n",
    "        self.accuracy_val = Accuracy(task=\"binary\")\n",
    "        self.accuracy_test = Accuracy(task=\"binary\")\n",
    "\n",
    "    def forward(self, x, index):\n",
    "        \"\"\"Implémente la passe avant.\n",
    "\n",
    "        L'argument x est une liste de tenseurs correspondant soit à l'entrée une seule\n",
    "        observation soit aux entrées d'un lot d'observations.\n",
    "        \"\"\"\n",
    "        ### BEGIN TODO ###\n",
    "        # Calcule la longueur de chaque séquence\n",
    "        lens = [sequence.size()[0] for sequence in x]\n",
    "\n",
    "        # Rembourre les séquences les plus petites\n",
    "        x_padded = pad_sequence(x)\n",
    "\n",
    "        # Emballe les séquences rembourrées\n",
    "        x_packed = pack_padded_sequence(x_padded, lens, enforce_sorted=False)\n",
    "\n",
    "        # Applique la couche GRU\n",
    "        output_packed, _ = self.gru(x_packed)\n",
    "\n",
    "        # Déballe la sortie de la couche GRU\n",
    "        output_unpacked, _ = pad_packed_sequence(output_packed)\n",
    "\n",
    "        # Récupère l'état caché pour chaque token d'intérêt\n",
    "        h = torch.concat([output_unpacked[idx, i].reshape(1, -1) for i, idx in enumerate(index)])\n",
    "\n",
    "        # Applique la couche linéaire\n",
    "        y = torch.squeeze(self.linear(h))\n",
    "        # y =\n",
    "        #### END TODO ####\n",
    "        return y\n",
    "\n",
    "    def step(self, batch, dataset):\n",
    "        \"\"\"Effectue une étape.\n",
    "\n",
    "        Une étape consiste à passer d'un lot d'observations (l'argument batch)\n",
    "        à l'évaluation de la fonction de coût pour ce lot d'observations.\n",
    "\n",
    "        Parameters\n",
    "        ----------\n",
    "        batch : tuple\n",
    "            Un lot d'observations. Le premier élément du tuple est le lot\n",
    "            des entrées, le second est le lot des labels.\n",
    "\n",
    "        dataset : {\"training\", \"validation\", \"test\"}\n",
    "            Jeu de données utilisé.\n",
    "\n",
    "        Returns\n",
    "        -------\n",
    "        loss : Tensor, shape = (1,)\n",
    "            La fonction de coût pour ce lot d'observations.\n",
    "        \"\"\"\n",
    "        # Récupère les données du lot d'observations\n",
    "        X = [item[0].to(self.device) for item in batch]\n",
    "        y = torch.tensor([item[1] for item in batch], device=self.device)\n",
    "        index = torch.tensor([item[2] for item in batch], device=self.device)\n",
    "\n",
    "        logits = self(X, index)  # Passe avant, qui renvoie les logits\n",
    "        loss = self.loss(logits, y)  # Évaluation de la fonction de coût\n",
    "        y_pred = (logits > 0).to(torch.float32)  # Prédictions du modèle\n",
    "\n",
    "        if dataset == \"training\":\n",
    "            metric = self.accuracy_train\n",
    "            name = \"train\"\n",
    "            bar_step = True\n",
    "        elif dataset == \"validation\":\n",
    "            metric = self.accuracy_val\n",
    "            name = \"val\"\n",
    "            bar_step = False\n",
    "        else:\n",
    "            metric = self.accuracy_test\n",
    "            name = \"test\"\n",
    "            bar_step = False\n",
    "\n",
    "        acc = metric(y_pred, y)  # Évaluation de la métrique\n",
    "        self.log(f\"loss_{name}\", loss, batch_size=len(y), prog_bar=bar_step, on_step=bar_step, on_epoch=True)\n",
    "        self.log(f\"accuracy_{name}\", acc, batch_size=len(y), prog_bar=bar_step, on_step=bar_step, on_epoch=True)\n",
    "\n",
    "        return loss\n",
    "\n",
    "    def training_step(self, batch):\n",
    "        \"\"\"Effectue une étape d'entraînement.\"\"\"\n",
    "        return self.step(batch, \"training\")\n",
    "\n",
    "    def validation_step(self, batch):\n",
    "        \"\"\"Effectue une étape de validation.\"\"\"\n",
    "        return self.step(batch, \"validation\")\n",
    "\n",
    "    def test_step(self, batch):\n",
    "        \"\"\"Effectue une étape d'évaluation.\"\"\"\n",
    "        return self.step(batch, \"test\")\n",
    "\n",
    "    def on_train_start(self):\n",
    "        \"\"\"Code exécuté au début de l'entraînement.\"\"\"\n",
    "        string = f\"Version {self.trainer.logger.version}\"\n",
    "        print(f\"{string}\\n{'=' * len(string)}\\n\")\n",
    "\n",
    "    def on_train_epoch_end(self):\n",
    "        \"\"\"Code exécuté à la fin de chaque époque d'entraînement.\"\"\"\n",
    "        metrics = self.trainer.callback_metrics\n",
    "        string = (f\"\"\"\n",
    "            Époque {self.trainer.current_epoch + 1} / {self.trainer.max_epochs}\n",
    "            -------------------------------------------------\n",
    "            |     Jeu      | Fonction de perte | Exactitude |\n",
    "            | ------------ | ----------------- | ---------- |\n",
    "            | Entraînement |{metrics['loss_train'].item():^19.5f}|{metrics['accuracy_train'].item():^12.3%}|\n",
    "            |  Validation  |{metrics['loss_val'].item():^19.5f}|{metrics['accuracy_val'].item():^12.3%}|\n",
    "            -------------------------------------------------\n",
    "        \"\"\")\n",
    "        string = '\\n'.join([line.strip() for line in string.split('\\n')])\n",
    "        print(string)\n",
    "\n",
    "    def configure_optimizers(self):\n",
    "        \"\"\"Configure l'algorithme d'optimisation à utiliser.\"\"\"\n",
    "        optimizer = torch.optim.Adam(self.parameters())\n",
    "        return optimizer"
   ]
  },
  {
   "cell_type": "markdown",
   "metadata": {},
   "source": [
    "Visualisons un résumé de l'architecture de notre modèle."
   ]
  },
  {
   "cell_type": "markdown",
   "metadata": {},
   "source": [
    "## Quelques mots concernant le `DataLoader`\n",
    "\n",
    "On a vu qu'une instance [`torch.utils.data.DataLoader()`](https://pytorch.org/docs/stable/data.html#torch.utils.data.DataLoader) permet de récupérer des lots d'observations de taille `batch_size`, avec un éventuel mélange des observations à chaque époque (si `shuffle=True`).\n",
    "Cependant, un `DataLoader` effectue bien plus de choses sous le capot.\n",
    "\n",
    "En particulier, avec les valeurs par défaut de certains hyperparamètres, il transforme une liste de tenseurs en un tenseur. Par exemple :\n",
    "\n",
    "* Si chaque entrée est un tenseur à 1 dimension de taille $50$ et si `batch_size=6`, alors la taille du tenseur renvoyé (correspondant au lot d'observations) est de taille $(6, 50)$.\n",
    "* Si chaque entrée est un tenseur à 2 dimensions de taille $(32, 32)$ et si `batch_size=4`, alors la taille du tenseur renvoyé (correspondant au lot d'observations) est de taille $(4, 32, 32)$.\n",
    "\n",
    "Le tenseur renvoyé a une dimension supplémentaire (la première dimension) correspondant aux observations.\n",
    "\n",
    "Comme on l'a vu dans la section précédente, une telle transformation est impossible avec des tenseurs de longueur différente.\n",
    "Par conséquent, il est nécessaire de désactiver cette transformation et d'implémenter notre propre transformation (avec le rembourrage et l'emballage).\n",
    "\n",
    "L'hyperparamètre de `DataLoader` qui contrôle cette transformation est `collate_fn` (voir la [documentation](https://pytorch.org/docs/stable/data.html#working-with-collate-fn) concerant cette hyperparamètre).\n",
    "Sa valeur doit être `None` ou un appelable (*callable*), donc en pratique une fonction.\n",
    "On peut désactiver la transformation en donnant la fonction identité comme argument pour cet hyperparamètre, soit `collate_fn=lambda x: x`.\n",
    "\n",
    "En effectuant ce changement, le `DataLoader` renverra maintenant une liste de longueur `batch_size`, chaque élément de cette liste étant ce qui est renvoyé par la méthode `__getitem__()` de l'instance de la classe personnalisée héritant de `Dataset`.\n",
    "\n",
    "> **Remarque** : Une autre possibilité aurait été d'effectuer les étapes de rembourrage et d'emballage dans la fonction `collate_fn`.\n",
    "\n",
    "### Question 6\n",
    "\n",
    "Créez votre propre classe `CustomDataset` héritant de la classe [`torch.utils.data.Dataset()`](https://pytorch.org/docs/stable/data.html#torch.utils.data.Dataset). Pour rappel, cette classe doit définir les trois méthodes suivantes :\n",
    "\n",
    "* `__len__()` : cette méthode renvoie le nombre d'observations du jeu de données.\n",
    "* `__getitem__()` : cette méthode charge et renvoie la $n$-ième observation du jeu de données (où $n$ est un argument de la méthode)\n",
    "* `__init__()` : cette méthode définit toutes les informations nécessaires pour l'implémentation des deux autres méthodes.\n",
    "\n",
    "Créez ensuite un `Dataloader` pour chacun des trois jeux (entraînement, validation, évaluation) avec des lots de taille $64$ (`batch_size=64`).\n",
    "N'oubliez pas de mélanger les observations dans le jeu d'entraînement (`shuffle=True`)."
   ]
  },
  {
   "cell_type": "code",
   "execution_count": 24,
   "metadata": {},
   "outputs": [],
   "source": [
    "from torch.utils.data import Dataset, DataLoader\n",
    "\n",
    "\n",
    "class CustomDataset(Dataset):\n",
    "    def __init__(self, X, y, index):\n",
    "        self.X = X\n",
    "        self.y = y\n",
    "        self.index = index\n",
    "\n",
    "    def __len__(self):\n",
    "        return len(self.X)\n",
    "\n",
    "    def __getitem__(self, idx):\n",
    "        return self.X[idx], self.y[idx], self.index[idx]\n",
    "\n",
    "\n",
    "dataloader_train = DataLoader(\n",
    "    CustomDataset(X_train, y_train, index_train),\n",
    "    batch_size=64, shuffle=True, collate_fn=lambda x: x\n",
    ")\n",
    "\n",
    "dataloader_val = DataLoader(\n",
    "    CustomDataset(X_val, y_val, index_val),\n",
    "    batch_size=64, shuffle=False, collate_fn=lambda x: x\n",
    ")\n",
    "\n",
    "dataloader_test = DataLoader(\n",
    "    CustomDataset(X_test, y_test, index_test),\n",
    "    batch_size=64, shuffle=False, collate_fn=lambda x: x\n",
    ")"
   ]
  },
  {
   "cell_type": "markdown",
   "metadata": {},
   "source": [
    "On va maintenant entraîner notre modèle pendant 10 époques."
   ]
  },
  {
   "cell_type": "code",
   "execution_count": 25,
   "metadata": {},
   "outputs": [
    {
     "name": "stderr",
     "output_type": "stream",
     "text": [
      "Missing logger folder: ./lightning_logs\n"
     ]
    },
    {
     "data": {
      "application/vnd.jupyter.widget-view+json": {
       "model_id": "88ed001462c8476bb2bf9265848439d7",
       "version_major": 2,
       "version_minor": 0
      },
      "text/plain": [
       "Training: |                                               | 0/? [00:00<?, ?it/s]"
      ]
     },
     "metadata": {},
     "output_type": "display_data"
    },
    {
     "name": "stdout",
     "output_type": "stream",
     "text": [
      "Version 0\n",
      "=========\n",
      "\n"
     ]
    },
    {
     "data": {
      "application/vnd.jupyter.widget-view+json": {
       "model_id": "",
       "version_major": 2,
       "version_minor": 0
      },
      "text/plain": [
       "Validation: |                                             | 0/? [00:00<?, ?it/s]"
      ]
     },
     "metadata": {},
     "output_type": "display_data"
    },
    {
     "name": "stdout",
     "output_type": "stream",
     "text": [
      "\n",
      "Époque 1 / 10\n",
      "-------------------------------------------------\n",
      "|     Jeu      | Fonction de perte | Exactitude |\n",
      "| ------------ | ----------------- | ---------- |\n",
      "| Entraînement |      0.54904      |  72.283%   |\n",
      "|  Validation  |      0.56488      |  71.145%   |\n",
      "-------------------------------------------------\n",
      "\n"
     ]
    },
    {
     "data": {
      "application/vnd.jupyter.widget-view+json": {
       "model_id": "",
       "version_major": 2,
       "version_minor": 0
      },
      "text/plain": [
       "Validation: |                                             | 0/? [00:00<?, ?it/s]"
      ]
     },
     "metadata": {},
     "output_type": "display_data"
    },
    {
     "name": "stdout",
     "output_type": "stream",
     "text": [
      "\n",
      "Époque 2 / 10\n",
      "-------------------------------------------------\n",
      "|     Jeu      | Fonction de perte | Exactitude |\n",
      "| ------------ | ----------------- | ---------- |\n",
      "| Entraînement |      0.48663      |  76.726%   |\n",
      "|  Validation  |      0.54670      |  72.159%   |\n",
      "-------------------------------------------------\n",
      "\n"
     ]
    },
    {
     "data": {
      "application/vnd.jupyter.widget-view+json": {
       "model_id": "",
       "version_major": 2,
       "version_minor": 0
      },
      "text/plain": [
       "Validation: |                                             | 0/? [00:00<?, ?it/s]"
      ]
     },
     "metadata": {},
     "output_type": "display_data"
    },
    {
     "name": "stdout",
     "output_type": "stream",
     "text": [
      "\n",
      "Époque 3 / 10\n",
      "-------------------------------------------------\n",
      "|     Jeu      | Fonction de perte | Exactitude |\n",
      "| ------------ | ----------------- | ---------- |\n",
      "| Entraînement |      0.45109      |  78.845%   |\n",
      "|  Validation  |      0.53418      |  73.384%   |\n",
      "-------------------------------------------------\n",
      "\n"
     ]
    },
    {
     "data": {
      "application/vnd.jupyter.widget-view+json": {
       "model_id": "",
       "version_major": 2,
       "version_minor": 0
      },
      "text/plain": [
       "Validation: |                                             | 0/? [00:00<?, ?it/s]"
      ]
     },
     "metadata": {},
     "output_type": "display_data"
    },
    {
     "name": "stdout",
     "output_type": "stream",
     "text": [
      "\n",
      "Époque 4 / 10\n",
      "-------------------------------------------------\n",
      "|     Jeu      | Fonction de perte | Exactitude |\n",
      "| ------------ | ----------------- | ---------- |\n",
      "| Entraînement |      0.41322      |  80.822%   |\n",
      "|  Validation  |      0.51775      |  75.116%   |\n",
      "-------------------------------------------------\n",
      "\n"
     ]
    },
    {
     "data": {
      "application/vnd.jupyter.widget-view+json": {
       "model_id": "",
       "version_major": 2,
       "version_minor": 0
      },
      "text/plain": [
       "Validation: |                                             | 0/? [00:00<?, ?it/s]"
      ]
     },
     "metadata": {},
     "output_type": "display_data"
    },
    {
     "name": "stdout",
     "output_type": "stream",
     "text": [
      "\n",
      "Époque 5 / 10\n",
      "-------------------------------------------------\n",
      "|     Jeu      | Fonction de perte | Exactitude |\n",
      "| ------------ | ----------------- | ---------- |\n",
      "| Entraînement |      0.37591      |  83.086%   |\n",
      "|  Validation  |      0.50571      |  75.708%   |\n",
      "-------------------------------------------------\n",
      "\n"
     ]
    },
    {
     "data": {
      "application/vnd.jupyter.widget-view+json": {
       "model_id": "",
       "version_major": 2,
       "version_minor": 0
      },
      "text/plain": [
       "Validation: |                                             | 0/? [00:00<?, ?it/s]"
      ]
     },
     "metadata": {},
     "output_type": "display_data"
    },
    {
     "name": "stdout",
     "output_type": "stream",
     "text": [
      "\n",
      "Époque 6 / 10\n",
      "-------------------------------------------------\n",
      "|     Jeu      | Fonction de perte | Exactitude |\n",
      "| ------------ | ----------------- | ---------- |\n",
      "| Entraînement |      0.34074      |  85.072%   |\n",
      "|  Validation  |      0.50179      |  75.961%   |\n",
      "-------------------------------------------------\n",
      "\n"
     ]
    },
    {
     "data": {
      "application/vnd.jupyter.widget-view+json": {
       "model_id": "",
       "version_major": 2,
       "version_minor": 0
      },
      "text/plain": [
       "Validation: |                                             | 0/? [00:00<?, ?it/s]"
      ]
     },
     "metadata": {},
     "output_type": "display_data"
    },
    {
     "name": "stdout",
     "output_type": "stream",
     "text": [
      "\n",
      "Époque 7 / 10\n",
      "-------------------------------------------------\n",
      "|     Jeu      | Fonction de perte | Exactitude |\n",
      "| ------------ | ----------------- | ---------- |\n",
      "| Entraînement |      0.30370      |  87.126%   |\n",
      "|  Validation  |      0.51975      |  77.313%   |\n",
      "-------------------------------------------------\n",
      "\n"
     ]
    },
    {
     "data": {
      "application/vnd.jupyter.widget-view+json": {
       "model_id": "",
       "version_major": 2,
       "version_minor": 0
      },
      "text/plain": [
       "Validation: |                                             | 0/? [00:00<?, ?it/s]"
      ]
     },
     "metadata": {},
     "output_type": "display_data"
    },
    {
     "name": "stdout",
     "output_type": "stream",
     "text": [
      "\n",
      "Époque 8 / 10\n",
      "-------------------------------------------------\n",
      "|     Jeu      | Fonction de perte | Exactitude |\n",
      "| ------------ | ----------------- | ---------- |\n",
      "| Entraînement |      0.26580      |  88.828%   |\n",
      "|  Validation  |      0.52862      |  77.271%   |\n",
      "-------------------------------------------------\n",
      "\n"
     ]
    },
    {
     "data": {
      "application/vnd.jupyter.widget-view+json": {
       "model_id": "",
       "version_major": 2,
       "version_minor": 0
      },
      "text/plain": [
       "Validation: |                                             | 0/? [00:00<?, ?it/s]"
      ]
     },
     "metadata": {},
     "output_type": "display_data"
    },
    {
     "name": "stdout",
     "output_type": "stream",
     "text": [
      "\n",
      "Époque 9 / 10\n",
      "-------------------------------------------------\n",
      "|     Jeu      | Fonction de perte | Exactitude |\n",
      "| ------------ | ----------------- | ---------- |\n",
      "| Entraînement |      0.22686      |  91.071%   |\n",
      "|  Validation  |      0.54876      |  76.975%   |\n",
      "-------------------------------------------------\n",
      "\n"
     ]
    },
    {
     "data": {
      "application/vnd.jupyter.widget-view+json": {
       "model_id": "",
       "version_major": 2,
       "version_minor": 0
      },
      "text/plain": [
       "Validation: |                                             | 0/? [00:00<?, ?it/s]"
      ]
     },
     "metadata": {},
     "output_type": "display_data"
    },
    {
     "name": "stdout",
     "output_type": "stream",
     "text": [
      "\n",
      "Époque 10 / 10\n",
      "-------------------------------------------------\n",
      "|     Jeu      | Fonction de perte | Exactitude |\n",
      "| ------------ | ----------------- | ---------- |\n",
      "| Entraînement |      0.18555      |  92.941%   |\n",
      "|  Validation  |      0.58629      |  76.806%   |\n",
      "-------------------------------------------------\n",
      "\n"
     ]
    }
   ],
   "source": [
    "from lightning.pytorch.callbacks import TQDMProgressBar\n",
    "from lightning.pytorch.loggers import CSVLogger\n",
    "\n",
    "\n",
    "model = RecurrentNeuralNetwork()\n",
    "\n",
    "trainer = L.Trainer(\n",
    "    max_epochs=10,\n",
    "    enable_model_summary=False,  # supprimer le résumé du modèle\n",
    "    logger=CSVLogger('.'),  # sauvegarder les résultats dans un fichier CSV\n",
    "    num_sanity_val_steps=0,  # ne pas effectuer d'étape de validation avant l'entraînement\n",
    "    callbacks=[TQDMProgressBar(refresh_rate=10)]  # mettre à jour la barre de progression tous les 10 lots\n",
    ")\n",
    "\n",
    "trainer.fit(\n",
    "    model=model,\n",
    "    train_dataloaders=dataloader_train,\n",
    "    val_dataloaders=dataloader_val\n",
    ")"
   ]
  },
  {
   "cell_type": "markdown",
   "metadata": {},
   "source": [
    "## Optimisation des hyperparamètres\n",
    "\n",
    "La classe codée ci-dessus n'est pas très flexible, dans le sens où si on veut changer les valeurs de certains hyperparamètres alors on doit créer une nouvelle classe.\n",
    "Il vaut mieux avoir une classe flexible, avec des arguments en entrée permettant de changer les valeurs de ces hyperparamètres à la création d'une instance de cette classe.\n",
    "\n",
    "La classe `RecurrentNeuralNetworkAdvanced` définie ci-dessous permet de personnaliser un peu l'architecture du modèle.\n",
    "On a toujours un réseau de neurones récurrent avec une ou plusieurs couches récurrentes suivies d'une ou plusieurs couches linéaires.\n",
    "Néanmoins, les modifications suivantes sont possibles grâce aux arguments de la classe :\n",
    "\n",
    "* On peut choisir le type de couche récurrente (RNN / LSTM / GRU).\n",
    "* On peut choisir le nombre de couches récurrentes.\n",
    "* On peut choisir le nombre de variables dans l'état caché des couches récurrentes.\n",
    "* On peut choisir le nombre de couches linéaires ainsi que leurs tailles.\n",
    "* On peut choisir la fonction d'activation à utiliser entre les couches linéaires."
   ]
  },
  {
   "cell_type": "code",
   "execution_count": 26,
   "metadata": {},
   "outputs": [],
   "source": [
    "import lightning as L\n",
    "from torch.nn.utils.rnn import pad_sequence, pack_padded_sequence, pad_packed_sequence\n",
    "from torchmetrics import Accuracy\n",
    "\n",
    "\n",
    "class RecurrentNeuralNetworkAdvanced(L.LightningModule):\n",
    "    \"\"\"Classe générale pour un réseau de neurones récurrent.\n",
    "\n",
    "    Parameters\n",
    "    ----------\n",
    "    rnn_type : {'rnn', 'lstm', 'gru'}\n",
    "        Type de couche récurrente.\n",
    "\n",
    "    \"\"\"\n",
    "\n",
    "    def __init__(\n",
    "        self,\n",
    "        rnn_type='gru',\n",
    "        n_rnn=1,\n",
    "        hidden_size_rnn=100,\n",
    "        n_linear=1,\n",
    "        output_size_linear=100,\n",
    "        activation=torch.nn.ReLU()\n",
    "    ):\n",
    "        \"\"\"Constructeur.\n",
    "\n",
    "        Dans le constructeur, on exécute le constructeur de la clase mère et on définit\n",
    "        toutes les couches et fonctions d'activation de notre réseau de neurones.\n",
    "        \"\"\"\n",
    "        super().__init__()  # Toujours exécuter le constructeur de la classe mère\n",
    "\n",
    "        # Couches récurrentes\n",
    "        if rnn_type == 'rnn':\n",
    "            self.rnn = torch.nn.RNN(\n",
    "                50, hidden_size=hidden_size_rnn, num_layers=n_rnn, bidirectional=True\n",
    "            )\n",
    "        elif rnn_type == 'lstm':\n",
    "            self.rnn = torch.nn.LSTM(\n",
    "                50, hidden_size=hidden_size_rnn, num_layers=n_rnn, bidirectional=True\n",
    "            )\n",
    "        elif rnn_type == 'gru':\n",
    "            self.rnn = torch.nn.GRU(\n",
    "                50, hidden_size=hidden_size_rnn, num_layers=n_rnn, bidirectional=True\n",
    "            )\n",
    "        else:\n",
    "            raise ValueError(\"rnn must be one of 'rnn', 'lstm' or 'gru'.\")\n",
    "\n",
    "        # Couches linéaires\n",
    "        size_linear = [2 * hidden_size_rnn]\n",
    "\n",
    "        if isinstance(output_size_linear, int):\n",
    "            size_linear += [output_size_linear] * (n_linear - 1)\n",
    "        else:\n",
    "            size_linear += list(output_size_linear)\n",
    "        size_linear += [1]\n",
    "\n",
    "        self.linear = torch.nn.Sequential(\n",
    "            *(\n",
    "                [torch.nn.Sequential(torch.nn.Linear(in_features, out_features), activation)\n",
    "                 for in_features, out_features in zip(size_linear[:-2], size_linear[1:-1])]\n",
    "                + [torch.nn.Linear(size_linear[-2], size_linear[-1])]\n",
    "            )\n",
    "        )\n",
    "\n",
    "        self.loss = torch.nn.BCEWithLogitsLoss()\n",
    "        self.accuracy_train = Accuracy(task=\"binary\")\n",
    "        self.accuracy_val = Accuracy(task=\"binary\")\n",
    "        self.accuracy_test = Accuracy(task=\"binary\")\n",
    "\n",
    "    def forward(self, x, index):\n",
    "        \"\"\"Implémente la passe avant.\n",
    "\n",
    "        L'argument x est une liste de tenseurs correspondant soit à l'entrée une seule\n",
    "        observation soit aux entrées d'un lot d'observations.\n",
    "        \"\"\"\n",
    "        # Calcule la longueur de chaque séquence\n",
    "        lens = [sequence.size()[0] for sequence in x]\n",
    "\n",
    "        # Rembourre les séquences les plus petites\n",
    "        x_padded = pad_sequence(x)\n",
    "\n",
    "        # Emballe les séquences rembourrées\n",
    "        x_packed = pack_padded_sequence(x_padded, lens, enforce_sorted=False)\n",
    "\n",
    "        # Applique la couche GRU\n",
    "        output_packed, _ = self.rnn(x_packed)\n",
    "\n",
    "        # Déballe la sortie de la couche GRU\n",
    "        output_unpacked, _ = pad_packed_sequence(output_packed)\n",
    "\n",
    "        # Récupère l'état caché pour chaque token d'intérêt\n",
    "        h = torch.concat([output_unpacked[idx, i].reshape(1, -1) for i, idx in enumerate(index)])\n",
    "\n",
    "        # Applique la couche linéaire\n",
    "        y = torch.squeeze(self.linear(h))\n",
    "\n",
    "        return y\n",
    "\n",
    "    def step(self, batch, dataset):\n",
    "        \"\"\"Effectue une étape.\n",
    "\n",
    "        Une étape consiste à passer d'un lot d'observations (l'argument batch)\n",
    "        à l'évaluation de la fonction de coût pour ce lot d'observations.\n",
    "\n",
    "        Parameters\n",
    "        ----------\n",
    "        batch : tuple\n",
    "            Un lot d'observations. Le premier élément du tuple est le lot\n",
    "            des entrées, le second est le lot des labels.\n",
    "\n",
    "        dataset : {\"training\", \"validation\", \"test\"}\n",
    "            Jeu de données utilisé.\n",
    "\n",
    "        Returns\n",
    "        -------\n",
    "        loss : Tensor, shape = (1,)\n",
    "            La fonction de coût pour ce lot d'observations.\n",
    "        \"\"\"\n",
    "        # Récupère les données du lot d'observations\n",
    "        X = [item[0].to(self.device) for item in batch]\n",
    "        y = torch.tensor([item[1] for item in batch], device=self.device)\n",
    "        index = torch.tensor([item[2] for item in batch], device=self.device)\n",
    "\n",
    "        logits = self(X, index)  # Passe avant, qui renvoie les logits\n",
    "        loss = self.loss(logits, y)  # Évaluation de la fonction de coût\n",
    "        y_pred = (logits > 0).to(torch.float32)  # Prédictions du modèle\n",
    "\n",
    "        if dataset == \"training\":\n",
    "            metric = self.accuracy_train\n",
    "            name = \"train\"\n",
    "            bar_step = True\n",
    "        elif dataset == \"validation\":\n",
    "            metric = self.accuracy_val\n",
    "            name = \"val\"\n",
    "            bar_step = False\n",
    "        else:\n",
    "            metric = self.accuracy_test\n",
    "            name = \"test\"\n",
    "            bar_step = False\n",
    "\n",
    "        acc = metric(y_pred, y)  # Évaluation de la métrique\n",
    "        self.log(f\"loss_{name}\", loss, batch_size=len(y), prog_bar=bar_step, on_step=bar_step, on_epoch=True)\n",
    "        self.log(f\"accuracy_{name}\", acc, batch_size=len(y), prog_bar=bar_step, on_step=bar_step, on_epoch=True)\n",
    "\n",
    "        return loss\n",
    "\n",
    "    def training_step(self, batch):\n",
    "        \"\"\"Effectue une étape d'entraînement.\"\"\"\n",
    "        return self.step(batch, \"training\")\n",
    "\n",
    "    def validation_step(self, batch):\n",
    "        \"\"\"Effectue une étape de validation.\"\"\"\n",
    "        return self.step(batch, \"validation\")\n",
    "\n",
    "    def test_step(self, batch):\n",
    "        \"\"\"Effectue une étape d'évaluation.\"\"\"\n",
    "        return self.step(batch, \"test\")\n",
    "\n",
    "    def on_train_start(self):\n",
    "        \"\"\"Code exécuté au début de l'entraînement.\"\"\"\n",
    "        string = f\"Version {self.trainer.logger.version}\"\n",
    "        print(f\"{string}\\n{'=' * len(string)}\\n\")\n",
    "\n",
    "    def on_train_epoch_end(self):\n",
    "        \"\"\"Code exécuté à la fin de chaque époque d'entraînement.\"\"\"\n",
    "        metrics = self.trainer.callback_metrics\n",
    "        string = (f\"\"\"\n",
    "            Époque {self.trainer.current_epoch + 1} / {self.trainer.max_epochs}\n",
    "            ------------------------------------------------\n",
    "            |     Jeu      | Fonction de coût | Exactitude |\n",
    "            | ------------ | ---------------- | ---------- |\n",
    "            | Entraînement |{metrics['loss_train'].item():^18.6f}|{metrics['accuracy_train'].item():^12.3%}|\n",
    "            |  Validation  |{metrics['loss_val'].item():^18.6f}|{metrics['accuracy_val'].item():^12.3%}|\n",
    "            ------------------------------------------------\n",
    "        \"\"\")\n",
    "        string = '\\n'.join([line.strip() for line in string.split('\\n')])\n",
    "        print(string)\n",
    "\n",
    "    def configure_optimizers(self):\n",
    "        \"\"\"Configure l'algorithme d'optimisation à utiliser.\"\"\"\n",
    "        optimizer = torch.optim.Adam(self.parameters())\n",
    "        return optimizer"
   ]
  },
  {
   "cell_type": "markdown",
   "metadata": {},
   "source": [
    "### Question 7\n",
    "\n",
    "Initialisez quelques modèles avec des combinaisons différentes pour les valeurs de ces hyperparamètres.\n",
    "N'entraînez pas les modèles, mais effectuez une passe avant sur un petit lot d'observations pour vous assurer qu'aucune erreur n'est levée."
   ]
  },
  {
   "cell_type": "code",
   "execution_count": 27,
   "metadata": {},
   "outputs": [
    {
     "data": {
      "text/plain": [
       "tensor([-0.0928, -0.0776, -0.2448], grad_fn=<SqueezeBackward0>)"
      ]
     },
     "execution_count": 27,
     "metadata": {},
     "output_type": "execute_result"
    }
   ],
   "source": [
    "RecurrentNeuralNetworkAdvanced(\n",
    "    rnn_type='gru', n_rnn=1, hidden_size_rnn=100, n_linear=1, output_size_linear=100\n",
    ")(X_train[:3], index_train[:3])"
   ]
  },
  {
   "cell_type": "code",
   "execution_count": 28,
   "metadata": {},
   "outputs": [
    {
     "data": {
      "text/plain": [
       "tensor([-0.0976, -0.0991, -0.0989], grad_fn=<SqueezeBackward0>)"
      ]
     },
     "execution_count": 28,
     "metadata": {},
     "output_type": "execute_result"
    }
   ],
   "source": [
    "RecurrentNeuralNetworkAdvanced(\n",
    "    rnn_type='lstm', n_rnn=2, hidden_size_rnn=200, n_linear=3,\n",
    "    output_size_linear=(200, 100), activation=torch.nn.LeakyReLU()\n",
    ")(X_train[:3], index_train[:3])"
   ]
  },
  {
   "cell_type": "code",
   "execution_count": 29,
   "metadata": {},
   "outputs": [
    {
     "data": {
      "text/plain": [
       "tensor([-0.0249, -0.0246, -0.0146], grad_fn=<SqueezeBackward0>)"
      ]
     },
     "execution_count": 29,
     "metadata": {},
     "output_type": "execute_result"
    }
   ],
   "source": [
    "RecurrentNeuralNetworkAdvanced(\n",
    "    rnn_type='rnn', n_rnn=3, hidden_size_rnn=30, n_linear=4, output_size_linear=(200, 120, 50),\n",
    ")(X_train[:3], index_train[:3])"
   ]
  },
  {
   "cell_type": "markdown",
   "metadata": {},
   "source": [
    "### Question 8\n",
    "\n",
    "Utilisez votre nouvelle classe personnalisée pour initialiser un modèle avec une architecture différente du premier modèle.\n",
    "**N'oubliez pas que plus votre modèle est profond et a de paramètres entraînables, plus l'entraînement prendra du temps.**\n",
    "Si vous avez assez de temps, essayez plusieurs architectures.\n",
    "Dans tous les cas, sauvegardez tous vos modèles !"
   ]
  },
  {
   "cell_type": "code",
   "execution_count": 30,
   "metadata": {},
   "outputs": [
    {
     "data": {
      "application/vnd.jupyter.widget-view+json": {
       "model_id": "4bb72b3ca1bc4b9da64e9fd30b766e46",
       "version_major": 2,
       "version_minor": 0
      },
      "text/plain": [
       "Training: |                                               | 0/? [00:00<?, ?it/s]"
      ]
     },
     "metadata": {},
     "output_type": "display_data"
    },
    {
     "name": "stdout",
     "output_type": "stream",
     "text": [
      "Version 1\n",
      "=========\n",
      "\n"
     ]
    },
    {
     "data": {
      "application/vnd.jupyter.widget-view+json": {
       "model_id": "",
       "version_major": 2,
       "version_minor": 0
      },
      "text/plain": [
       "Validation: |                                             | 0/? [00:00<?, ?it/s]"
      ]
     },
     "metadata": {},
     "output_type": "display_data"
    },
    {
     "name": "stdout",
     "output_type": "stream",
     "text": [
      "\n",
      "Époque 1 / 10\n",
      "------------------------------------------------\n",
      "|     Jeu      | Fonction de coût | Exactitude |\n",
      "| ------------ | ---------------- | ---------- |\n",
      "| Entraînement |     0.536228     |  72.305%   |\n",
      "|  Validation  |     0.559583     |  70.131%   |\n",
      "------------------------------------------------\n",
      "\n"
     ]
    },
    {
     "data": {
      "application/vnd.jupyter.widget-view+json": {
       "model_id": "",
       "version_major": 2,
       "version_minor": 0
      },
      "text/plain": [
       "Validation: |                                             | 0/? [00:00<?, ?it/s]"
      ]
     },
     "metadata": {},
     "output_type": "display_data"
    },
    {
     "name": "stdout",
     "output_type": "stream",
     "text": [
      "\n",
      "Époque 2 / 10\n",
      "------------------------------------------------\n",
      "|     Jeu      | Fonction de coût | Exactitude |\n",
      "| ------------ | ---------------- | ---------- |\n",
      "| Entraînement |     0.449026     |  78.600%   |\n",
      "|  Validation  |     0.503776     |  75.243%   |\n",
      "------------------------------------------------\n",
      "\n"
     ]
    },
    {
     "data": {
      "application/vnd.jupyter.widget-view+json": {
       "model_id": "",
       "version_major": 2,
       "version_minor": 0
      },
      "text/plain": [
       "Validation: |                                             | 0/? [00:00<?, ?it/s]"
      ]
     },
     "metadata": {},
     "output_type": "display_data"
    },
    {
     "name": "stdout",
     "output_type": "stream",
     "text": [
      "\n",
      "Époque 3 / 10\n",
      "------------------------------------------------\n",
      "|     Jeu      | Fonction de coût | Exactitude |\n",
      "| ------------ | ---------------- | ---------- |\n",
      "| Entraînement |     0.392045     |  81.679%   |\n",
      "|  Validation  |     0.502708     |  76.341%   |\n",
      "------------------------------------------------\n",
      "\n"
     ]
    },
    {
     "data": {
      "application/vnd.jupyter.widget-view+json": {
       "model_id": "",
       "version_major": 2,
       "version_minor": 0
      },
      "text/plain": [
       "Validation: |                                             | 0/? [00:00<?, ?it/s]"
      ]
     },
     "metadata": {},
     "output_type": "display_data"
    },
    {
     "name": "stdout",
     "output_type": "stream",
     "text": [
      "\n",
      "Époque 4 / 10\n",
      "------------------------------------------------\n",
      "|     Jeu      | Fonction de coût | Exactitude |\n",
      "| ------------ | ---------------- | ---------- |\n",
      "| Entraînement |     0.344426     |  84.381%   |\n",
      "|  Validation  |     0.480131     |  77.271%   |\n",
      "------------------------------------------------\n",
      "\n"
     ]
    },
    {
     "data": {
      "application/vnd.jupyter.widget-view+json": {
       "model_id": "",
       "version_major": 2,
       "version_minor": 0
      },
      "text/plain": [
       "Validation: |                                             | 0/? [00:00<?, ?it/s]"
      ]
     },
     "metadata": {},
     "output_type": "display_data"
    },
    {
     "name": "stdout",
     "output_type": "stream",
     "text": [
      "\n",
      "Époque 5 / 10\n",
      "------------------------------------------------\n",
      "|     Jeu      | Fonction de coût | Exactitude |\n",
      "| ------------ | ---------------- | ---------- |\n",
      "| Entraînement |     0.301609     |  86.500%   |\n",
      "|  Validation  |     0.500162     |  77.440%   |\n",
      "------------------------------------------------\n",
      "\n"
     ]
    },
    {
     "data": {
      "application/vnd.jupyter.widget-view+json": {
       "model_id": "",
       "version_major": 2,
       "version_minor": 0
      },
      "text/plain": [
       "Validation: |                                             | 0/? [00:00<?, ?it/s]"
      ]
     },
     "metadata": {},
     "output_type": "display_data"
    },
    {
     "name": "stdout",
     "output_type": "stream",
     "text": [
      "\n",
      "Époque 6 / 10\n",
      "------------------------------------------------\n",
      "|     Jeu      | Fonction de coût | Exactitude |\n",
      "| ------------ | ---------------- | ---------- |\n",
      "| Entraînement |     0.253131     |  88.760%   |\n",
      "|  Validation  |     0.515241     |  78.834%   |\n",
      "------------------------------------------------\n",
      "\n"
     ]
    },
    {
     "data": {
      "application/vnd.jupyter.widget-view+json": {
       "model_id": "",
       "version_major": 2,
       "version_minor": 0
      },
      "text/plain": [
       "Validation: |                                             | 0/? [00:00<?, ?it/s]"
      ]
     },
     "metadata": {},
     "output_type": "display_data"
    },
    {
     "name": "stdout",
     "output_type": "stream",
     "text": [
      "\n",
      "Époque 7 / 10\n",
      "------------------------------------------------\n",
      "|     Jeu      | Fonction de coût | Exactitude |\n",
      "| ------------ | ---------------- | ---------- |\n",
      "| Entraînement |     0.205918     |  91.427%   |\n",
      "|  Validation  |     0.575747     |  77.989%   |\n",
      "------------------------------------------------\n",
      "\n"
     ]
    },
    {
     "data": {
      "application/vnd.jupyter.widget-view+json": {
       "model_id": "",
       "version_major": 2,
       "version_minor": 0
      },
      "text/plain": [
       "Validation: |                                             | 0/? [00:00<?, ?it/s]"
      ]
     },
     "metadata": {},
     "output_type": "display_data"
    },
    {
     "name": "stdout",
     "output_type": "stream",
     "text": [
      "\n",
      "Époque 8 / 10\n",
      "------------------------------------------------\n",
      "|     Jeu      | Fonction de coût | Exactitude |\n",
      "| ------------ | ---------------- | ---------- |\n",
      "| Entraînement |     0.159763     |  93.370%   |\n",
      "|  Validation  |     0.677258     |  78.918%   |\n",
      "------------------------------------------------\n",
      "\n"
     ]
    },
    {
     "data": {
      "application/vnd.jupyter.widget-view+json": {
       "model_id": "",
       "version_major": 2,
       "version_minor": 0
      },
      "text/plain": [
       "Validation: |                                             | 0/? [00:00<?, ?it/s]"
      ]
     },
     "metadata": {},
     "output_type": "display_data"
    },
    {
     "name": "stdout",
     "output_type": "stream",
     "text": [
      "\n",
      "Époque 9 / 10\n",
      "------------------------------------------------\n",
      "|     Jeu      | Fonction de coût | Exactitude |\n",
      "| ------------ | ---------------- | ---------- |\n",
      "| Entraînement |     0.123253     |  95.124%   |\n",
      "|  Validation  |     0.774289     |  79.172%   |\n",
      "------------------------------------------------\n",
      "\n"
     ]
    },
    {
     "data": {
      "application/vnd.jupyter.widget-view+json": {
       "model_id": "",
       "version_major": 2,
       "version_minor": 0
      },
      "text/plain": [
       "Validation: |                                             | 0/? [00:00<?, ?it/s]"
      ]
     },
     "metadata": {},
     "output_type": "display_data"
    },
    {
     "name": "stdout",
     "output_type": "stream",
     "text": [
      "\n",
      "Époque 10 / 10\n",
      "------------------------------------------------\n",
      "|     Jeu      | Fonction de coût | Exactitude |\n",
      "| ------------ | ---------------- | ---------- |\n",
      "| Entraînement |     0.092685     |  96.359%   |\n",
      "|  Validation  |     0.881185     |  79.383%   |\n",
      "------------------------------------------------\n",
      "\n"
     ]
    }
   ],
   "source": [
    "model_2 = RecurrentNeuralNetworkAdvanced(\n",
    "    rnn_type='lstm', n_rnn=2, hidden_size_rnn=200, n_linear=3,\n",
    "    output_size_linear=(200, 100), activation=torch.nn.LeakyReLU()\n",
    ")\n",
    "\n",
    "trainer_2 = L.Trainer(\n",
    "    max_epochs=10,\n",
    "    enable_model_summary=False,  # supprimer le résumé du modèle\n",
    "    logger=CSVLogger('.'),  # sauvegarder les résultats dans un fichier CSV\n",
    "    num_sanity_val_steps=0,  # ne pas effectuer d'étape de validation avant l'entraînement\n",
    "    callbacks=[TQDMProgressBar(refresh_rate=10)]  # mettre à jour la barre de progression tous les 10 lots\n",
    ")\n",
    "\n",
    "trainer_2.fit(\n",
    "    model=model_2,\n",
    "    train_dataloaders=dataloader_train,\n",
    "    val_dataloaders=dataloader_val\n",
    ")"
   ]
  },
  {
   "cell_type": "markdown",
   "metadata": {},
   "source": [
    "### Question 9\n",
    "\n",
    "En théorie, il faudrait choisir le meilleur modèle sur le jeu de validation et l'évaluer sur le jeu d'évaluation. Par curiosité, on va ici évaluer tous les modèles sur le jeu d'évaluation."
   ]
  },
  {
   "cell_type": "code",
   "execution_count": 31,
   "metadata": {},
   "outputs": [
    {
     "data": {
      "application/vnd.jupyter.widget-view+json": {
       "model_id": "2ead298cd75540448847842468097423",
       "version_major": 2,
       "version_minor": 0
      },
      "text/plain": [
       "Validation: |                                             | 0/? [00:00<?, ?it/s]"
      ]
     },
     "metadata": {},
     "output_type": "display_data"
    },
    {
     "data": {
      "text/html": [
       "<pre style=\"white-space:pre;overflow-x:auto;line-height:normal;font-family:Menlo,'DejaVu Sans Mono',consolas,'Courier New',monospace\">┏━━━━━━━━━━━━━━━━━━━━━━━━━━━┳━━━━━━━━━━━━━━━━━━━━━━━━━━━┓\n",
       "┃<span style=\"font-weight: bold\">      Validate metric      </span>┃<span style=\"font-weight: bold\">       DataLoader 0        </span>┃\n",
       "┡━━━━━━━━━━━━━━━━━━━━━━━━━━━╇━━━━━━━━━━━━━━━━━━━━━━━━━━━┩\n",
       "│<span style=\"color: #008080; text-decoration-color: #008080\">       accuracy_val        </span>│<span style=\"color: #800080; text-decoration-color: #800080\">    0.7680608630180359     </span>│\n",
       "│<span style=\"color: #008080; text-decoration-color: #008080\">         loss_val          </span>│<span style=\"color: #800080; text-decoration-color: #800080\">    0.5862944722175598     </span>│\n",
       "└───────────────────────────┴───────────────────────────┘\n",
       "</pre>\n"
      ],
      "text/plain": [
       "┏━━━━━━━━━━━━━━━━━━━━━━━━━━━┳━━━━━━━━━━━━━━━━━━━━━━━━━━━┓\n",
       "┃\u001b[1m \u001b[0m\u001b[1m     Validate metric     \u001b[0m\u001b[1m \u001b[0m┃\u001b[1m \u001b[0m\u001b[1m      DataLoader 0       \u001b[0m\u001b[1m \u001b[0m┃\n",
       "┡━━━━━━━━━━━━━━━━━━━━━━━━━━━╇━━━━━━━━━━━━━━━━━━━━━━━━━━━┩\n",
       "│\u001b[36m \u001b[0m\u001b[36m      accuracy_val       \u001b[0m\u001b[36m \u001b[0m│\u001b[35m \u001b[0m\u001b[35m   0.7680608630180359    \u001b[0m\u001b[35m \u001b[0m│\n",
       "│\u001b[36m \u001b[0m\u001b[36m        loss_val         \u001b[0m\u001b[36m \u001b[0m│\u001b[35m \u001b[0m\u001b[35m   0.5862944722175598    \u001b[0m\u001b[35m \u001b[0m│\n",
       "└───────────────────────────┴───────────────────────────┘\n"
      ]
     },
     "metadata": {},
     "output_type": "display_data"
    },
    {
     "data": {
      "text/plain": [
       "[{'loss_val': 0.5862944722175598, 'accuracy_val': 0.7680608630180359}]"
      ]
     },
     "execution_count": 31,
     "metadata": {},
     "output_type": "execute_result"
    }
   ],
   "source": [
    "trainer.validate(model, dataloader_val)"
   ]
  },
  {
   "cell_type": "code",
   "execution_count": 32,
   "metadata": {},
   "outputs": [
    {
     "data": {
      "application/vnd.jupyter.widget-view+json": {
       "model_id": "4e57ea600ca643f18393441ea35d5dda",
       "version_major": 2,
       "version_minor": 0
      },
      "text/plain": [
       "Validation: |                                             | 0/? [00:00<?, ?it/s]"
      ]
     },
     "metadata": {},
     "output_type": "display_data"
    },
    {
     "data": {
      "text/html": [
       "<pre style=\"white-space:pre;overflow-x:auto;line-height:normal;font-family:Menlo,'DejaVu Sans Mono',consolas,'Courier New',monospace\">┏━━━━━━━━━━━━━━━━━━━━━━━━━━━┳━━━━━━━━━━━━━━━━━━━━━━━━━━━┓\n",
       "┃<span style=\"font-weight: bold\">      Validate metric      </span>┃<span style=\"font-weight: bold\">       DataLoader 0        </span>┃\n",
       "┡━━━━━━━━━━━━━━━━━━━━━━━━━━━╇━━━━━━━━━━━━━━━━━━━━━━━━━━━┩\n",
       "│<span style=\"color: #008080; text-decoration-color: #008080\">       accuracy_val        </span>│<span style=\"color: #800080; text-decoration-color: #800080\">    0.7938318252563477     </span>│\n",
       "│<span style=\"color: #008080; text-decoration-color: #008080\">         loss_val          </span>│<span style=\"color: #800080; text-decoration-color: #800080\">     0.881184995174408     </span>│\n",
       "└───────────────────────────┴───────────────────────────┘\n",
       "</pre>\n"
      ],
      "text/plain": [
       "┏━━━━━━━━━━━━━━━━━━━━━━━━━━━┳━━━━━━━━━━━━━━━━━━━━━━━━━━━┓\n",
       "┃\u001b[1m \u001b[0m\u001b[1m     Validate metric     \u001b[0m\u001b[1m \u001b[0m┃\u001b[1m \u001b[0m\u001b[1m      DataLoader 0       \u001b[0m\u001b[1m \u001b[0m┃\n",
       "┡━━━━━━━━━━━━━━━━━━━━━━━━━━━╇━━━━━━━━━━━━━━━━━━━━━━━━━━━┩\n",
       "│\u001b[36m \u001b[0m\u001b[36m      accuracy_val       \u001b[0m\u001b[36m \u001b[0m│\u001b[35m \u001b[0m\u001b[35m   0.7938318252563477    \u001b[0m\u001b[35m \u001b[0m│\n",
       "│\u001b[36m \u001b[0m\u001b[36m        loss_val         \u001b[0m\u001b[36m \u001b[0m│\u001b[35m \u001b[0m\u001b[35m    0.881184995174408    \u001b[0m\u001b[35m \u001b[0m│\n",
       "└───────────────────────────┴───────────────────────────┘\n"
      ]
     },
     "metadata": {},
     "output_type": "display_data"
    },
    {
     "data": {
      "text/plain": [
       "[{'loss_val': 0.881184995174408, 'accuracy_val': 0.7938318252563477}]"
      ]
     },
     "execution_count": 32,
     "metadata": {},
     "output_type": "execute_result"
    }
   ],
   "source": [
    "trainer_2.validate(model_2, dataloader_val)"
   ]
  },
  {
   "cell_type": "code",
   "execution_count": 33,
   "metadata": {},
   "outputs": [
    {
     "data": {
      "application/vnd.jupyter.widget-view+json": {
       "model_id": "59efca5eb3b94e93a4c5c18d21d80d30",
       "version_major": 2,
       "version_minor": 0
      },
      "text/plain": [
       "Testing: |                                                | 0/? [00:00<?, ?it/s]"
      ]
     },
     "metadata": {},
     "output_type": "display_data"
    },
    {
     "data": {
      "text/html": [
       "<pre style=\"white-space:pre;overflow-x:auto;line-height:normal;font-family:Menlo,'DejaVu Sans Mono',consolas,'Courier New',monospace\">┏━━━━━━━━━━━━━━━━━━━━━━━━━━━┳━━━━━━━━━━━━━━━━━━━━━━━━━━━┓\n",
       "┃<span style=\"font-weight: bold\">        Test metric        </span>┃<span style=\"font-weight: bold\">       DataLoader 0        </span>┃\n",
       "┡━━━━━━━━━━━━━━━━━━━━━━━━━━━╇━━━━━━━━━━━━━━━━━━━━━━━━━━━┩\n",
       "│<span style=\"color: #008080; text-decoration-color: #008080\">       accuracy_test       </span>│<span style=\"color: #800080; text-decoration-color: #800080\">    0.7844929695129395     </span>│\n",
       "│<span style=\"color: #008080; text-decoration-color: #008080\">         loss_test         </span>│<span style=\"color: #800080; text-decoration-color: #800080\">    0.5439191460609436     </span>│\n",
       "└───────────────────────────┴───────────────────────────┘\n",
       "</pre>\n"
      ],
      "text/plain": [
       "┏━━━━━━━━━━━━━━━━━━━━━━━━━━━┳━━━━━━━━━━━━━━━━━━━━━━━━━━━┓\n",
       "┃\u001b[1m \u001b[0m\u001b[1m       Test metric       \u001b[0m\u001b[1m \u001b[0m┃\u001b[1m \u001b[0m\u001b[1m      DataLoader 0       \u001b[0m\u001b[1m \u001b[0m┃\n",
       "┡━━━━━━━━━━━━━━━━━━━━━━━━━━━╇━━━━━━━━━━━━━━━━━━━━━━━━━━━┩\n",
       "│\u001b[36m \u001b[0m\u001b[36m      accuracy_test      \u001b[0m\u001b[36m \u001b[0m│\u001b[35m \u001b[0m\u001b[35m   0.7844929695129395    \u001b[0m\u001b[35m \u001b[0m│\n",
       "│\u001b[36m \u001b[0m\u001b[36m        loss_test        \u001b[0m\u001b[36m \u001b[0m│\u001b[35m \u001b[0m\u001b[35m   0.5439191460609436    \u001b[0m\u001b[35m \u001b[0m│\n",
       "└───────────────────────────┴───────────────────────────┘\n"
      ]
     },
     "metadata": {},
     "output_type": "display_data"
    },
    {
     "data": {
      "text/plain": [
       "[{'loss_test': 0.5439191460609436, 'accuracy_test': 0.7844929695129395}]"
      ]
     },
     "execution_count": 33,
     "metadata": {},
     "output_type": "execute_result"
    }
   ],
   "source": [
    "trainer.test(model, dataloader_test)"
   ]
  },
  {
   "cell_type": "code",
   "execution_count": 34,
   "metadata": {},
   "outputs": [
    {
     "data": {
      "application/vnd.jupyter.widget-view+json": {
       "model_id": "b204655d34c74884ad3bc922d0afd138",
       "version_major": 2,
       "version_minor": 0
      },
      "text/plain": [
       "Testing: |                                                | 0/? [00:00<?, ?it/s]"
      ]
     },
     "metadata": {},
     "output_type": "display_data"
    },
    {
     "data": {
      "text/html": [
       "<pre style=\"white-space:pre;overflow-x:auto;line-height:normal;font-family:Menlo,'DejaVu Sans Mono',consolas,'Courier New',monospace\">┏━━━━━━━━━━━━━━━━━━━━━━━━━━━┳━━━━━━━━━━━━━━━━━━━━━━━━━━━┓\n",
       "┃<span style=\"font-weight: bold\">        Test metric        </span>┃<span style=\"font-weight: bold\">       DataLoader 0        </span>┃\n",
       "┡━━━━━━━━━━━━━━━━━━━━━━━━━━━╇━━━━━━━━━━━━━━━━━━━━━━━━━━━┩\n",
       "│<span style=\"color: #008080; text-decoration-color: #008080\">       accuracy_test       </span>│<span style=\"color: #800080; text-decoration-color: #800080\">    0.8019298911094666     </span>│\n",
       "│<span style=\"color: #008080; text-decoration-color: #008080\">         loss_test         </span>│<span style=\"color: #800080; text-decoration-color: #800080\">     0.874323844909668     </span>│\n",
       "└───────────────────────────┴───────────────────────────┘\n",
       "</pre>\n"
      ],
      "text/plain": [
       "┏━━━━━━━━━━━━━━━━━━━━━━━━━━━┳━━━━━━━━━━━━━━━━━━━━━━━━━━━┓\n",
       "┃\u001b[1m \u001b[0m\u001b[1m       Test metric       \u001b[0m\u001b[1m \u001b[0m┃\u001b[1m \u001b[0m\u001b[1m      DataLoader 0       \u001b[0m\u001b[1m \u001b[0m┃\n",
       "┡━━━━━━━━━━━━━━━━━━━━━━━━━━━╇━━━━━━━━━━━━━━━━━━━━━━━━━━━┩\n",
       "│\u001b[36m \u001b[0m\u001b[36m      accuracy_test      \u001b[0m\u001b[36m \u001b[0m│\u001b[35m \u001b[0m\u001b[35m   0.8019298911094666    \u001b[0m\u001b[35m \u001b[0m│\n",
       "│\u001b[36m \u001b[0m\u001b[36m        loss_test        \u001b[0m\u001b[36m \u001b[0m│\u001b[35m \u001b[0m\u001b[35m    0.874323844909668    \u001b[0m\u001b[35m \u001b[0m│\n",
       "└───────────────────────────┴───────────────────────────┘\n"
      ]
     },
     "metadata": {},
     "output_type": "display_data"
    },
    {
     "data": {
      "text/plain": [
       "[{'loss_test': 0.874323844909668, 'accuracy_test': 0.8019298911094666}]"
      ]
     },
     "execution_count": 34,
     "metadata": {},
     "output_type": "execute_result"
    }
   ],
   "source": [
    "trainer_2.test(model_2, dataloader_test)"
   ]
  }
 ],
 "metadata": {
  "kernelspec": {
   "display_name": "Python 3 (ipykernel)",
   "language": "python",
   "name": "python3"
  },
  "language_info": {
   "codemirror_mode": {
    "name": "ipython",
    "version": 3
   },
   "file_extension": ".py",
   "mimetype": "text/x-python",
   "name": "python",
   "nbconvert_exporter": "python",
   "pygments_lexer": "ipython3",
   "version": "3.10.13"
  }
 },
 "nbformat": 4,
 "nbformat_minor": 4
}
