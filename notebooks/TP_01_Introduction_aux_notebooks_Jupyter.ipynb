{
 "cells": [
  {
   "cell_type": "markdown",
   "id": "ba50feba",
   "metadata": {},
   "source": [
    "## Introduction aux notebooks Jupyter\n",
    "\n",
    "Les notebooks Jupyter sont très utilisés dans le monde de la science des données.\n",
    "En mélangeant le code et le texte, les notebooks Jupyter sont très pratiques pour exécuter des petits bouts de code, visualiser des données ou encore écrire des tutoriels.\n",
    "On peut même écrire un livre à partir de notebooks Jupyter (voir [Jupyter Book](https://jupyterbook.org/en/stable/intro.html)) !\n",
    "\n",
    "Les énoncés de ce TP sont tous des notebooks Jupyter.\n",
    "L'objectif de ce TP est de vous familiariser avec les notebooks Jupyter et de découvrir quelques bibliothèques Python très couramment utilisées en science des données, et pour lesquelles les notebooks Jupyter sont vraiment pratiques, telles que `pandas` et `matplotlib`.\n",
    "\n",
    "Il existe différentes interfaces utilisateur, les deux plus populaires étant [Jupyter Notebook](https://jupyter-notebook.readthedocs.io) et [JupyterLab](https://jupyterlab.readthedocs.io).\n",
    "Sur https://clust-n4.ensai.fr/, vous aurez accès à JupyterLab.\n",
    "\n",
    "Un notebook Jupyter est constitué de **cellules**.\n",
    "Il existe deux principaux types de cellules : les cellules de type **code** et les cellules de type **Markdown**.\n",
    "Les cellules de type code contiennent du code qui peut être exécuté et éventuellement affiché une sortie, tandis que les cellules de type Markdown contiennent des informations telles que du texte, des liens hypertextes, des images, des tableaux, des équations, etc.\n",
    "\n",
    "### Comment changer le type de cellule ?\n",
    "\n",
    "Une nouvelle cellule créée est toujours de type code.\n",
    "Pour changer le type d'une cellule, deux manières sont possibles. Après avoir sélectionné la cellule correspondante, il faut :\n",
    "* soit cliquer sur la liste d'options en haut (`Code`) et choisir `Markdown`,\n",
    "* soit appuyer sur la touche d'échappement (`esc`) pour passer en mode commande, puis sur la touche `M`.\n",
    "\n",
    "### Fonctionnalités des cellules et raccourcis clavier\n",
    "\n",
    "La deuxième manière fait appel aux **raccourcis clavier**.\n",
    "Quand on a un peu d'expérience, ces raccourcis sont très pratiques car ils font gagner du temps : plus besoin d'aller déplacer la souris dans le menu en haut et d'appuyer sur l'option désirée dans le bon onglet.\n",
    "Pour utiliser les raccourcis clavier, il faut passer en **mode commande**.\n",
    "Pour ce faire, il suffit d'appuyer sur la touche d'échappement (`esc`).\n",
    "Avec la souris, il faut cliquer **à gauche de la cellule** (et non sur la cellule, c'est-à-dire à l'intérieur du rectangle gris).\n",
    "\n",
    "Voici quelques raccourcis clavier qu'il peut être intéressant de retenir :\n",
    "* Exécuter la cellule et passer à la suivante : touches `Maj + Entrée`\n",
    "* Exécuter la cellule et rester sur cette cellule : touches `Ctrl + Entrée` (Windows/Linux) ou  `Cmd + Entrée` (macOS)\n",
    "* Sauvegarder le notebook : touche `S`\n",
    "* Afficher/masquer les numéros de ligne de la cellule : touche `L`\n",
    "* Convertir une cellule au type Markdown : touche `M`\n",
    "* Convertir une cellule au type code : touche `Y`\n",
    "* Ajouter une cellule au-dessous : touche `B` (pour *below*)\n",
    "* Ajouter une cellule au-dessus : touche `A` (pour *above*)\n",
    "* Copier une cellule : touche `C`\n",
    "* Coller une cellule (en dessous de la cellule actuelle)  : touche `V`\n",
    "* Supprimer une cellule : touche `X`\n",
    "* Annuler la suppresion de cellule : touche `Z`\n",
    "* Chercher et remplacer du texte dans la cellule : touche `F`\n",
    "\n",
    "Toutes ces fonctionnalités sont également disponibles en utilisant l'interface graphique (en cliquant sur le symbole ou l'entrée correspondante dans le bon onglet)."
   ]
  },
  {
   "cell_type": "markdown",
   "id": "7c1df754",
   "metadata": {},
   "source": [
    "## Les cellules Markdown\n",
    "\n",
    "### Qu'est-ce que Markdown ?\n",
    "\n",
    "Commençons par citer l'entrée Wikipedia de [Markdown](https://fr.wikipedia.org/wiki/Markdown) :\n",
    "\n",
    "> **Markdown** est un  langage de balisage léger créé en 2004 par John Gruber, avec l'aide d'Aaron Swartz, avec l'objectif d'offrir une syntaxe, facile à lire et à écrire, en l'état, sans formatage.\n",
    "\n",
    "Nous allons voir ici les principales fonctionnalités disponibles en Markdown dans les notebooks Jupyter.\n",
    "\n",
    "### Organisation\n",
    "\n",
    "* Les titres sont des lignes commençant par un ou plusieurs dièses (#), le nombre de dièses indiquant le niveau du titre.\n",
    "* Les listes numérotées sont générées à partir d'un paragraphe où chaque ligne commence par un numéro, un point et un espace (par exemple `1. `).\n",
    "* Les listes numérotées sont générées à partir d'un paragraphe où chaque ligne commence par un symbole `-`, `*` ou `+` puis un espace.\n",
    "* Il est possible de faire des sous-listes à l'intérieur de listes en utilisant des tabulations.\n",
    "\n",
    "Par exemple, le texte ci-dessous situé entre les deux traits horizontaux :\n",
    "\n",
    "---\n",
    "# 1. Titre\n",
    "## 1.1 Sous-titre\n",
    "### 1.1.1 Sous-sous-titre\n",
    "\n",
    "Voici une liste numérotée :\n",
    "1. Point 1\n",
    "    - Un point\n",
    "    - Un autre point\n",
    "        + Premier sous-sous-point\n",
    "        + Second sous-sous point\n",
    "    - Encore un autre point\n",
    "2. Point 2\n",
    "3. Point 3\n",
    "\n",
    "Voici une liste non-numérotée :\n",
    "- Un point\n",
    "- Un autre point\n",
    "- Encore un autre point\n",
    "---\n",
    "\n",
    "a été généré avec le code suivant :\n",
    "\n",
    "```\n",
    "# 1. Titre\n",
    "## 1.1 Sous-titre\n",
    "### 1.1.1 Sous-sous-titre\n",
    "\n",
    "Voici une liste numérotée :\n",
    "1. Point 1\n",
    "    - Un point\n",
    "    - Un autre point\n",
    "        + Premier sous-sous-point\n",
    "        + Second sous-sous point\n",
    "    - Encore un autre point\n",
    "2. Point 2\n",
    "3. Point 3\n",
    "\n",
    "Voici une liste non-numérotée :\n",
    "- Un point\n",
    "- Un autre point\n",
    "- Encore un autre point\n",
    "```\n",
    "\n",
    "### Mise en avant du texte\n",
    "\n",
    "Le texte peut être mis en avant avec les syntaxes suivantes :\n",
    "* Le texte se trouvant soit entre deux tirets bas (p.ex. `_Hello_)` soit entre deux étoiles (p.ex. `*Hello*`) est en italique.\n",
    "* Le texte se trouvant soit entre quatre tirets bas (p.ex. `__Hello__)` soit entre quatre étoiles (p.ex. `**Hello**`) est en gras.\n",
    "* Le texte se trouvant entre deux tildes (p.ex. `~Hello~`) est barré.\n",
    "* Le texte entre les balises HTML `<mark>` et `</mark>` est surligné.\n",
    "* Une ligne commençant par `> ` (une flèche vers la droite puis un espace) est un bloc de citation.\n",
    "\n",
    "Par exemple, le texte ci-dessous situé entre les deux traits horizontaux :\n",
    "\n",
    "---\n",
    "> **Rennes** est une <mark>ville</mark> de *France*, et plus particulièrement de ~Normandie~ **_Bretagne_**.\n",
    "---\n",
    "\n",
    "a été généré avec le code suivant :\n",
    "```\n",
    "> **Rennes** est une <mark>ville</mark> de *France*, et plus particulièrement de ~Normandie~ **_Bretagne_**.\n",
    "```\n",
    "\n",
    "### Équations mathématiques\n",
    "\n",
    "Les notebooks Jupyter permettent l'affichage d'équations mathématiques écrites en $\\LaTeX$ grâce à [MathJax](https://www.mathjax.org) :\n",
    "* Le code situé entre deux symboles dollar correspond à une **équation en ligne**.\n",
    "* Le code situé entre quatre symboles dollar correspond à une **équation affichée sur sa propre ligne**.\n",
    "\n",
    "Par exemple, le texte ci-dessous situé entre les deux traits horizontaux :\n",
    "\n",
    "---\n",
    "\n",
    "Les solutions complexes de l'équation du second degré $az^2 + bz + c = 0$ sont :\n",
    "\n",
    "$$\n",
    "    z_1 = \\frac{-b - \\sqrt{b^2 - 4ac}}{2a} \\qquad\\text{et}\\qquad z_2 = \\frac{-b + \\sqrt{b^2 - 4ac}}{2a}\n",
    "$$\n",
    "\n",
    "---\n",
    "\n",
    "a été généré avec le code suivant :\n",
    "```\n",
    "Les solutions complexes de l'équation du second degré $az^2 + bz + c = 0$ sont :\n",
    "\n",
    "$$\n",
    "    z_1 = \\frac{-b - \\sqrt{b^2 - 4ac}}{2a} \\qquad\\text{et}\\qquad z_2 = \\frac{-b + \\sqrt{b^2 - 4ac}}{2a}\n",
    "$$\n",
    "```\n",
    "\n",
    "### Mise en avant du code\n",
    "\n",
    "Comme pour les équations mathématiques écrites en $\\LaTeX$, il existe deux manières d'afficher du code :\n",
    "* Le code situé entre deux ou quatre symboles de *citation arrière* (accent grave) correspond à du **code en ligne**.\n",
    "* Le code situé dans un paragraphe débutant par une ligne contenant trois symboles de citation arrière et se terminant par une ligne contenant trois symboles de citation arrière correspond à un **bloc de code**.\n",
    "* Pour les blocs de code, il est possible d'ajouter de la **coloration syntaxique** en indiquant le **nom du langage** sur la première ligne après les trois symboles de citation arrière.\n",
    "\n",
    "Par exemple, le texte ci-dessous situé entre les deux traits horizontaux :\n",
    "\n",
    "---\n",
    "La fonction Python `factorielle` définie ci-dessous correspond à une implémentation récursive de la fonction mathématique factorielle :\n",
    "\n",
    "```python\n",
    "def factorielle(n: int) -> int:\n",
    "    if not (isinstance(n, int) and n >= 0):\n",
    "        raise ValueError(\"n doit être un entier naturel.\")\n",
    "    if n == 0:\n",
    "        return 1\n",
    "    else:\n",
    "        return n * factoriel(n - 1)\n",
    "```\n",
    "---\n",
    "\n",
    "a été généré avec le code suivant :"
   ]
  },
  {
   "cell_type": "raw",
   "id": "01eeb419",
   "metadata": {},
   "source": [
    "La fonction Python `factorielle` définie ci-dessous correspond à une implémentation récursive de la fonction mathématique factorielle :\n",
    "\n",
    "```python\n",
    "def factorielle(n: int) -> int:\n",
    "    if not (isinstance(n, int) and n >= 0):\n",
    "        raise ValueError(\"n doit être un entier naturel.\")\n",
    "    if n == 0:\n",
    "        return 1\n",
    "    else:\n",
    "        return n * factoriel(n - 1)\n",
    "```"
   ]
  },
  {
   "cell_type": "markdown",
   "id": "ce8cf8c3",
   "metadata": {},
   "source": [
    "Pour afficher le code ayant généré ce texte, on a été obligé d'utiliser une cellule de type **raw** (brut en anglais), qui affiche le texte tel quel.\n",
    "\n",
    "### Insertion\n",
    "\n",
    "Il est possible d'ajouter des liens hypertextes, des images et des tableaux dans une cellule Markdown.\n",
    "\n",
    "Un lien hypertexte est automatiquement créé en fournissant une URL, par exemple https://jupyter.org. Pour ajouter un lien hypertexte à du texte, la syntaxe est la suivante : `[texte à afficher](URL)`. Par exemple, le lien du site internet de jupyter se trouve [ici](https://jupyter.org), grâce à la commade `[ici](https://jupyter.org)`.\n",
    "\n",
    "Pour afficher une image, il suffit de fournir son URL avec la syntaxe suivante : `![](URL)`. On utilise cette syntaxe pour afficher le logo de l'ENSAI affiché sur le site internet de l'ENSAI grâce à la commande `![](https://ensai.fr/wp-content/uploads/2019/05/Ensai-logo.png)` :\n",
    "\n",
    "![](https://ensai.fr/wp-content/uploads/2019/05/Ensai-logo.png)\n",
    "\n",
    "En combinant les deux, on peut également ajouter un lien hypertexte à une image. Par exemple, cliquer sur l'image ci-dessous envoie sur le site web de l'ENSAI grâce à la commande `[![](https://ensai.fr/wp-content/uploads/2019/05/Ensai-logo.png)](https://ensai.fr)` :\n",
    "\n",
    "[![](https://ensai.fr/wp-content/uploads/2019/05/Ensai-logo.png)](https://ensai.fr)\n",
    "\n",
    "Pour afficher un tableau, il suffit de respecter la syntaxe suivante :\n",
    "* Chaque ligne de texte correspond à une ligne du tableau.\n",
    "* Pour chaque ligne, les colonnes sont séparées par des traits verticaux `|`\n",
    "* Si la première ligne est une ligne de titres des colonnes, il faut ajouter une ligne où le texte de chaque cellule est remplacé par des tirets `-`. On peut spécifier l'alignement de la colonne en rajoutant un `:` au début (alignement à gauche), un `:` à la fin (alignement à droite) ou un `:` au début et à la fin (centré).\n",
    "\n",
    "Par exemple, le tableau suivant :\n",
    "\n",
    "| Titre | Auteur | Genre |\n",
    "|:----- |:------:| -----:|\n",
    "| Le Seigneur des anneaux | J. R. R. Tolkien | Fantasy |\n",
    "| 2001 : l'Odyssée de l'espace | Arthur C. CLarke | Science-fiction |\n",
    "| Le Trône de fer | George R. R. Martin | Fantasy |\n",
    "| Le Guide du voyageur galactique | Douglas Adams | Science-fiction |\n",
    "| L'Assassin royal | Robin Hobb | Fantasy |\n",
    "\n",
    "a été généré avec le code suivant :\n",
    "\n",
    "```\n",
    "| Titre | Auteur | Genre |\n",
    "|:----- |:------:| -----:|\n",
    "| Le Seigneur des anneaux | J. R. R. Tolkien | Fantasy |\n",
    "| 2001 : l'Odyssée de l'espace | Arthur C. CLarke | Science-fiction |\n",
    "| Le Trône de fer | George R. R. Martin | Fantasy |\n",
    "| Le Guide du voyageur galactique | Douglas Adams | Science-fiction |\n",
    "| L'Assassin royal | Robin Hobb | Fantasy |\n",
    "```\n",
    "\n",
    "### Support partiel du HTML\n",
    "\n",
    "Certains éléments de HTML sont supportés avec les notebooks Jupyter.\n",
    "On a par exemple montré l'utilisation de la balise `<mark>` pour surligner du texte.\n",
    "On peut également utiliser la balise `<img>` pour afficher et redimensionner une image.\n",
    "Par exemple, l'image ci-dessous est générée par la commande suivante : `<img width=200 src=\"https://ensai.fr/wp-content/uploads/2019/05/Ensai-logo.png\">`.\n",
    "\n",
    "<img width=200 src=\"https://ensai.fr/wp-content/uploads/2019/05/Ensai-logo.png\">\n",
    "\n",
    "L'utilisation du HTML dans les cellules Markdown d'un notebook Jupyter n'étant pas particulièrement liée à la science des données, on ne fournira pas davantage de détails à ce sujet."
   ]
  },
  {
   "cell_type": "markdown",
   "id": "db8c8a0d",
   "metadata": {},
   "source": [
    "## Cellules de code\n",
    "\n",
    "Bien que les cellules Markdown soient très utiles pour fournir des informations complémentaires, l'intérêt principal d'un notebook reste d'exécuter des cellules de code.\n",
    "La cellule ci-dessous définie une fonction Python implémentant la fonction factorielle de manière récursive."
   ]
  },
  {
   "cell_type": "code",
   "execution_count": 1,
   "id": "d33dc3f8",
   "metadata": {},
   "outputs": [],
   "source": [
    "def factorielle_recursive(n: int) -> int:\n",
    "    if n == 0:\n",
    "        return 1\n",
    "    else:\n",
    "        return n * factorielle_recursive(n - 1)"
   ]
  },
  {
   "cell_type": "markdown",
   "id": "f58da0c0",
   "metadata": {},
   "source": [
    "Après avoir exécuté cette cellule, la fonction est définie et peut donc être appelée. Appelons là dans la cellule suivante."
   ]
  },
  {
   "cell_type": "code",
   "execution_count": 2,
   "id": "d9b45a83",
   "metadata": {},
   "outputs": [
    {
     "data": {
      "text/plain": [
       "720"
      ]
     },
     "execution_count": 2,
     "metadata": {},
     "output_type": "execute_result"
    }
   ],
   "source": [
    "factorielle_recursive(6)"
   ]
  },
  {
   "cell_type": "markdown",
   "id": "50110009",
   "metadata": {},
   "source": [
    "La sortie est affichée en-dessous de la cellule.\n",
    "Cependant, seule la sortie de la dernière ligne est affichée et seulement si cette ligne ne se trouve pas dans une boucle.\n",
    "Pour explicitement afficher un résultat, il faut utiliser la fonction native [`print()`](https://docs.python.org/fr/3.13/library/functions.html#print)."
   ]
  },
  {
   "cell_type": "code",
   "execution_count": 3,
   "id": "953826bf",
   "metadata": {},
   "outputs": [
    {
     "data": {
      "text/plain": [
       "24"
      ]
     },
     "execution_count": 3,
     "metadata": {},
     "output_type": "execute_result"
    }
   ],
   "source": [
    "factorielle_recursive(6)\n",
    "factorielle_recursive(5)\n",
    "factorielle_recursive(4)"
   ]
  },
  {
   "cell_type": "code",
   "execution_count": 4,
   "id": "b3553942",
   "metadata": {},
   "outputs": [
    {
     "data": {
      "text/plain": [
       "(720, 120, 24)"
      ]
     },
     "execution_count": 4,
     "metadata": {},
     "output_type": "execute_result"
    }
   ],
   "source": [
    "factorielle_recursive(6), factorielle_recursive(5), factorielle_recursive(4)"
   ]
  },
  {
   "cell_type": "code",
   "execution_count": 5,
   "id": "77e98e94",
   "metadata": {},
   "outputs": [],
   "source": [
    "for i in range(8):\n",
    "    factorielle_recursive(i)"
   ]
  },
  {
   "cell_type": "code",
   "execution_count": 6,
   "id": "f650d055",
   "metadata": {},
   "outputs": [
    {
     "name": "stdout",
     "output_type": "stream",
     "text": [
      "0! = 1\n",
      "1! = 1\n",
      "2! = 2\n",
      "3! = 6\n",
      "4! = 24\n",
      "5! = 120\n",
      "6! = 720\n",
      "7! = 5040\n"
     ]
    }
   ],
   "source": [
    "for i in range(8):\n",
    "    print(f\"{i}! = {factorielle_recursive(i)}\")"
   ]
  },
  {
   "cell_type": "markdown",
   "id": "db948c27",
   "metadata": {},
   "source": [
    "Le code exécuté est *sauvegardé en mémoire* tant que le **noyau** est actif. Mais qu'est-ce qu'un noyau ?\n",
    "\n",
    "Les [noyaux](https://docs.jupyter.org/en/stable/projects/kernels.html) (*kernels* en anglais) sont des processus spécifiques à un langage de programmation qui s'exécutent indépendamment et interagissent avec les applications Jupyter et leurs interfaces utilisateur. [ipykernel](https://github.com/ipython/ipykernel) est le noyau Jupyter de référence construit au-dessus d'[IPython](https://ipython.org), fournissant un environnement puissant pour le calcul interactif en Python."
   ]
  },
  {
   "cell_type": "markdown",
   "id": "72bfbf14",
   "metadata": {},
   "source": [
    "### Exécution de commandes (bash) dans le terminal \n",
    "\n",
    "À noter qu'il est possible d'exécuter une commande dans le terminal (dans le répertoire où se trouve le notebook) en démarrant la ligne de code correspondante par un `!` :"
   ]
  },
  {
   "cell_type": "code",
   "execution_count": 7,
   "id": "ee9fb38b",
   "metadata": {},
   "outputs": [
    {
     "name": "stdout",
     "output_type": "stream",
     "text": [
      "Lun 28 avr 2025 14:02:50 CEST\r\n"
     ]
    }
   ],
   "source": [
    "! date"
   ]
  },
  {
   "cell_type": "markdown",
   "id": "d8d85d1a",
   "metadata": {},
   "source": [
    "Pour du code bash contenant plusieurs commandes, une possibilité est d'utiliser la [commande magique](https://ipython.readthedocs.io/en/stable/interactive/magics.html) [`%%bash`](https://ipython.readthedocs.io/en/stable/interactive/magics.html#cellmagic-bash) :"
   ]
  },
  {
   "cell_type": "code",
   "execution_count": 8,
   "id": "b77a45bd",
   "metadata": {},
   "outputs": [
    {
     "name": "stdout",
     "output_type": "stream",
     "text": [
      "Lun 28 avr 2025 14:02:51 CEST\n",
      "Python 3.10.13\n"
     ]
    }
   ],
   "source": [
    "%%bash\n",
    "\n",
    "date\n",
    "python --version"
   ]
  },
  {
   "cell_type": "markdown",
   "id": "0feea154",
   "metadata": {},
   "source": [
    "### Les commandes magiques [`%timeit`](https://ipython.readthedocs.io/en/stable/interactive/magics.html#magic-timeit) et [`%%timeit`](https://ipython.readthedocs.io/en/stable/interactive/magics.html#magic-timeit)\n",
    "\n",
    "Quand on implémente une fonctionnalité, il est courant d'avoir les connaissances nécessaires pour pouvoir implémenter cette fonctionnalité de plusieurs manières différentes.\n",
    "Dans ce cas de figure, une question fréquente est de savoir quelle implémentation est la plus rapide.\n",
    "\n",
    "On pourrait faire les comparaisons soi-même en faisant des boucles for (pour exécuter l'implémentation plusieurs fois) et en utilisant la fonction [`time.time()`](https://docs.python.org/fr/3/library/time.html#time.time). Un inconvénient de cette méthode est le nombre d'exécutions, qui doit être défini par le développeur.\n",
    "\n",
    "Les commandes magiques [`%timeit`](https://ipython.readthedocs.io/en/stable/interactive/magics.html#magic-timeit) et [`%%timeit`](https://ipython.readthedocs.io/en/stable/interactive/magics.html#magic-timeit) répondent à ce besoin. La commande magique `%timeit` s'utilise en une seule ligne, tandis que la commande magique `%%timeit` s'utilise pour toute la cellule. On peut spécifier le nombre d'exécutions, mais il est pratique de leur laisser déterminer automatiquement le nombre de répétitions (autant que possible du moment que le résultat final est renvoyé en quelques secondes)."
   ]
  },
  {
   "cell_type": "code",
   "execution_count": 9,
   "id": "a8a7673e",
   "metadata": {},
   "outputs": [
    {
     "name": "stdout",
     "output_type": "stream",
     "text": [
      "4.48 ns ± 0.0649 ns per loop (mean ± std. dev. of 7 runs, 100,000,000 loops each)\n"
     ]
    }
   ],
   "source": [
    "%timeit 1 + 3"
   ]
  },
  {
   "cell_type": "code",
   "execution_count": 10,
   "id": "b5103174",
   "metadata": {},
   "outputs": [
    {
     "name": "stdout",
     "output_type": "stream",
     "text": [
      "17.4 ns ± 0.11 ns per loop (mean ± std. dev. of 7 runs, 100,000,000 loops each)\n"
     ]
    }
   ],
   "source": [
    "%%timeit\n",
    "\n",
    "a = 1\n",
    "b = 3\n",
    "a + b"
   ]
  },
  {
   "cell_type": "markdown",
   "id": "2acd87c9",
   "metadata": {},
   "source": [
    "Implémentons la factorielle d'une manière non récursive."
   ]
  },
  {
   "cell_type": "code",
   "execution_count": 11,
   "id": "b1360c7d",
   "metadata": {},
   "outputs": [],
   "source": [
    "def factorielle_nonrecursive(n: int) -> int:\n",
    "    res = 1\n",
    "    for i in range(2, n + 1):\n",
    "        res *= i\n",
    "    return res"
   ]
  },
  {
   "cell_type": "code",
   "execution_count": 12,
   "id": "3f068ca8",
   "metadata": {},
   "outputs": [
    {
     "data": {
      "text/plain": [
       "(720, 720)"
      ]
     },
     "execution_count": 12,
     "metadata": {},
     "output_type": "execute_result"
    }
   ],
   "source": [
    "factorielle_recursive(6), factorielle_nonrecursive(6)"
   ]
  },
  {
   "cell_type": "markdown",
   "id": "315f3913",
   "metadata": {},
   "source": [
    "Comparons les temps d'exécution pour différentes valeurs de $n$ : $n \\in [3, 30, 300]$"
   ]
  },
  {
   "cell_type": "code",
   "execution_count": 13,
   "id": "ceec24fc",
   "metadata": {},
   "outputs": [
    {
     "name": "stdout",
     "output_type": "stream",
     "text": [
      "228 ns ± 5.2 ns per loop (mean ± std. dev. of 7 runs, 1,000,000 loops each)\n"
     ]
    }
   ],
   "source": [
    "%timeit factorielle_recursive(3)"
   ]
  },
  {
   "cell_type": "code",
   "execution_count": 14,
   "id": "14df38dc",
   "metadata": {},
   "outputs": [
    {
     "name": "stdout",
     "output_type": "stream",
     "text": [
      "151 ns ± 0.833 ns per loop (mean ± std. dev. of 7 runs, 10,000,000 loops each)\n"
     ]
    }
   ],
   "source": [
    "%timeit factorielle_nonrecursive(3)"
   ]
  },
  {
   "cell_type": "code",
   "execution_count": 15,
   "id": "fbe0b25f",
   "metadata": {},
   "outputs": [
    {
     "name": "stdout",
     "output_type": "stream",
     "text": [
      "2.4 µs ± 24.1 ns per loop (mean ± std. dev. of 7 runs, 100,000 loops each)\n"
     ]
    }
   ],
   "source": [
    "%timeit factorielle_recursive(30)"
   ]
  },
  {
   "cell_type": "code",
   "execution_count": 16,
   "id": "22d14bb9",
   "metadata": {},
   "outputs": [
    {
     "name": "stdout",
     "output_type": "stream",
     "text": [
      "957 ns ± 7.61 ns per loop (mean ± std. dev. of 7 runs, 1,000,000 loops each)\n"
     ]
    }
   ],
   "source": [
    "%timeit factorielle_nonrecursive(30)"
   ]
  },
  {
   "cell_type": "code",
   "execution_count": 17,
   "id": "c6e94f7e",
   "metadata": {},
   "outputs": [
    {
     "name": "stdout",
     "output_type": "stream",
     "text": [
      "43.3 µs ± 568 ns per loop (mean ± std. dev. of 7 runs, 10,000 loops each)\n"
     ]
    }
   ],
   "source": [
    "%timeit factorielle_recursive(300)"
   ]
  },
  {
   "cell_type": "code",
   "execution_count": 18,
   "id": "544d0f7e",
   "metadata": {},
   "outputs": [
    {
     "name": "stdout",
     "output_type": "stream",
     "text": [
      "21.9 µs ± 177 ns per loop (mean ± std. dev. of 7 runs, 10,000 loops each)\n"
     ]
    }
   ],
   "source": [
    "%timeit factorielle_nonrecursive(300)"
   ]
  },
  {
   "cell_type": "markdown",
   "id": "72a1787d",
   "metadata": {},
   "source": [
    "On remarque que l'implémentation non récursive est un peu plus rapide que celle récursive.\n",
    "De plus, la version récursive ne va pas marcher pour de grandes valeurs de $n$ car il existe un nombre maximum de récursions possibles en Python."
   ]
  },
  {
   "cell_type": "code",
   "execution_count": 19,
   "id": "05ff7cac",
   "metadata": {},
   "outputs": [
    {
     "data": {
      "text/plain": [
       "3000"
      ]
     },
     "execution_count": 19,
     "metadata": {},
     "output_type": "execute_result"
    }
   ],
   "source": [
    "import sys; sys.getrecursionlimit()"
   ]
  },
  {
   "cell_type": "markdown",
   "id": "448e509f",
   "metadata": {},
   "source": [
    "Aucune erreur n'est levée avec l'implémentation non récursive (on supprime l'affichage du nombre car il contient trop de chiffres, une erreur est levée sinon)."
   ]
  },
  {
   "cell_type": "code",
   "execution_count": 20,
   "id": "7b940cfd",
   "metadata": {},
   "outputs": [],
   "source": [
    "_ = factorielle_nonrecursive(sys.getrecursionlimit())"
   ]
  },
  {
   "cell_type": "markdown",
   "id": "031279d0",
   "metadata": {},
   "source": [
    "Avec l'implémentation récursive, une erreur est bien levée si on dépasse cette valeur."
   ]
  },
  {
   "cell_type": "code",
   "execution_count": 21,
   "id": "a7687744",
   "metadata": {},
   "outputs": [
    {
     "ename": "RecursionError",
     "evalue": "maximum recursion depth exceeded in comparison",
     "output_type": "error",
     "traceback": [
      "\u001b[0;31m---------------------------------------------------------------------------\u001b[0m",
      "\u001b[0;31mRecursionError\u001b[0m                            Traceback (most recent call last)",
      "Cell \u001b[0;32mIn[21], line 1\u001b[0m\n\u001b[0;32m----> 1\u001b[0m _ \u001b[38;5;241m=\u001b[39m \u001b[43mfactorielle_recursive\u001b[49m\u001b[43m(\u001b[49m\u001b[43msys\u001b[49m\u001b[38;5;241;43m.\u001b[39;49m\u001b[43mgetrecursionlimit\u001b[49m\u001b[43m(\u001b[49m\u001b[43m)\u001b[49m\u001b[43m)\u001b[49m\n",
      "Cell \u001b[0;32mIn[1], line 5\u001b[0m, in \u001b[0;36mfactorielle_recursive\u001b[0;34m(n)\u001b[0m\n\u001b[1;32m      3\u001b[0m     \u001b[38;5;28;01mreturn\u001b[39;00m \u001b[38;5;241m1\u001b[39m\n\u001b[1;32m      4\u001b[0m \u001b[38;5;28;01melse\u001b[39;00m:\n\u001b[0;32m----> 5\u001b[0m     \u001b[38;5;28;01mreturn\u001b[39;00m n \u001b[38;5;241m*\u001b[39m \u001b[43mfactorielle_recursive\u001b[49m\u001b[43m(\u001b[49m\u001b[43mn\u001b[49m\u001b[43m \u001b[49m\u001b[38;5;241;43m-\u001b[39;49m\u001b[43m \u001b[49m\u001b[38;5;241;43m1\u001b[39;49m\u001b[43m)\u001b[49m\n",
      "Cell \u001b[0;32mIn[1], line 5\u001b[0m, in \u001b[0;36mfactorielle_recursive\u001b[0;34m(n)\u001b[0m\n\u001b[1;32m      3\u001b[0m     \u001b[38;5;28;01mreturn\u001b[39;00m \u001b[38;5;241m1\u001b[39m\n\u001b[1;32m      4\u001b[0m \u001b[38;5;28;01melse\u001b[39;00m:\n\u001b[0;32m----> 5\u001b[0m     \u001b[38;5;28;01mreturn\u001b[39;00m n \u001b[38;5;241m*\u001b[39m \u001b[43mfactorielle_recursive\u001b[49m\u001b[43m(\u001b[49m\u001b[43mn\u001b[49m\u001b[43m \u001b[49m\u001b[38;5;241;43m-\u001b[39;49m\u001b[43m \u001b[49m\u001b[38;5;241;43m1\u001b[39;49m\u001b[43m)\u001b[49m\n",
      "    \u001b[0;31m[... skipping similar frames: factorielle_recursive at line 5 (2969 times)]\u001b[0m\n",
      "Cell \u001b[0;32mIn[1], line 5\u001b[0m, in \u001b[0;36mfactorielle_recursive\u001b[0;34m(n)\u001b[0m\n\u001b[1;32m      3\u001b[0m     \u001b[38;5;28;01mreturn\u001b[39;00m \u001b[38;5;241m1\u001b[39m\n\u001b[1;32m      4\u001b[0m \u001b[38;5;28;01melse\u001b[39;00m:\n\u001b[0;32m----> 5\u001b[0m     \u001b[38;5;28;01mreturn\u001b[39;00m n \u001b[38;5;241m*\u001b[39m \u001b[43mfactorielle_recursive\u001b[49m\u001b[43m(\u001b[49m\u001b[43mn\u001b[49m\u001b[43m \u001b[49m\u001b[38;5;241;43m-\u001b[39;49m\u001b[43m \u001b[49m\u001b[38;5;241;43m1\u001b[39;49m\u001b[43m)\u001b[49m\n",
      "Cell \u001b[0;32mIn[1], line 2\u001b[0m, in \u001b[0;36mfactorielle_recursive\u001b[0;34m(n)\u001b[0m\n\u001b[1;32m      1\u001b[0m \u001b[38;5;28;01mdef\u001b[39;00m \u001b[38;5;21mfactorielle_recursive\u001b[39m(n: \u001b[38;5;28mint\u001b[39m) \u001b[38;5;241m-\u001b[39m\u001b[38;5;241m>\u001b[39m \u001b[38;5;28mint\u001b[39m:\n\u001b[0;32m----> 2\u001b[0m     \u001b[38;5;28;01mif\u001b[39;00m \u001b[43mn\u001b[49m\u001b[43m \u001b[49m\u001b[38;5;241;43m==\u001b[39;49m\u001b[43m \u001b[49m\u001b[38;5;241;43m0\u001b[39;49m:\n\u001b[1;32m      3\u001b[0m         \u001b[38;5;28;01mreturn\u001b[39;00m \u001b[38;5;241m1\u001b[39m\n\u001b[1;32m      4\u001b[0m     \u001b[38;5;28;01melse\u001b[39;00m:\n",
      "\u001b[0;31mRecursionError\u001b[0m: maximum recursion depth exceeded in comparison"
     ]
    }
   ],
   "source": [
    "_ = factorielle_recursive(sys.getrecursionlimit())"
   ]
  },
  {
   "cell_type": "markdown",
   "id": "2f752038",
   "metadata": {},
   "source": [
    "## Informations à garder en tête\n",
    "\n",
    "\n",
    "### Attendus d'un notebook Jupyter\n",
    "\n",
    "\n",
    "* **Les cellules d'un notebook Jupyter sont exécutées une par une, de la première à la dernière, dans l'ordre.**\n",
    "\n",
    "\n",
    "### Liste non-exhaustive de bêtises possibles\n",
    "\n",
    "\n",
    "* **Exécuter les cellules dans le désordre** : Si le code d'une cellule précédente dépend d'une cellule suivante, vous n'aurez peut-être pas d'erreur en exécutant d'abord la cellule suivante puis la cellule précédente. En revanche, après redémarrage du noyau, exécuter les cellules dans l'ordre lévera une erreur.\n",
    "\n",
    "* **Supprimer une cellule précédemment exécutée** : Les variables, fonctions et classes définies dans cette cellule restent disponibles tant que le noyau n'est pas éteint ou redémarré. Si une autre cellule dépendait du code contenu dans la cellule supprimée, une erreur sera forcément levée lors de la prochaine exécution après redémarrage du noyau.\n",
    "\n",
    "\n",
    "### Règle à respecter avant de fermer un notebook\n",
    "\n",
    "\n",
    "* **Redémarrer le noyau puis exécuter tout le notebook** (`Run > Restart Kernel and Run All Cells` sur JupyerLab, `Noyau > Redémarrer & tout exécuter` sur Jupyter Notebook) **et vérifier que tout le notebook s'exécute bien dans sa totalité et que la sortie de chaque cellule correspond bien à la sortie attendue.**"
   ]
  }
 ],
 "metadata": {
  "kernelspec": {
   "display_name": "Python 3 (ipykernel)",
   "language": "python",
   "name": "python3"
  },
  "language_info": {
   "codemirror_mode": {
    "name": "ipython",
    "version": 3
   },
   "file_extension": ".py",
   "mimetype": "text/x-python",
   "name": "python",
   "nbconvert_exporter": "python",
   "pygments_lexer": "ipython3",
   "version": "3.10.13"
  }
 },
 "nbformat": 4,
 "nbformat_minor": 5
}
