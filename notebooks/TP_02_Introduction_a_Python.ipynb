{
 "cells": [
  {
   "cell_type": "markdown",
   "id": "d498f7aa",
   "metadata": {},
   "source": [
    "# Introduction à Python\n",
    "\n",
    "Python est devenu un langage de programmation incontournable pour la science des données, et plus particulièrement en apprentissage profond.\n",
    "Ce court *notebook* a pour objectif de présenter les bases de ce langage de programmation."
   ]
  },
  {
   "cell_type": "markdown",
   "id": "73279ee8",
   "metadata": {},
   "source": [
    "## 1. Manipulation de variables\n",
    "\n",
    "La syntaxe pour définir une variable est `nom_variable = valeur_variable`. Par exemple, pour définir les variables `a` et `b` et leur assigner les valeurs `10` et `3` respectivement :"
   ]
  },
  {
   "cell_type": "code",
   "execution_count": 1,
   "id": "b3a950d4",
   "metadata": {},
   "outputs": [],
   "source": [
    "a = 10\n",
    "b = 3"
   ]
  },
  {
   "cell_type": "markdown",
   "id": "786d11e7",
   "metadata": {},
   "source": [
    "`10` et `3` sont des des entiers, un type déjà défini en Python. Il existe de nombreux types déjà finis, tels que :\n",
    "* les entiers (*int*) : `entier = 2`\n",
    "* les nombres flottants (*float*) : `flottant = 2.5`\n",
    "* les nombres complexes (*complex*) : `complexe = 1 + 3j`\n",
    "* les booléens (*bool*) : `vrai = True`, `faux = False`\n",
    "* les chaînes de caractères (*str*) : `texte = \"Hello World\"`\n",
    "* les listes (*list*) : `liste = [0, \"abc\", 3.2]`\n",
    "* les t-uplets (*tuple*) : `tuplet = (0, \"abc\", 3.2)` \n",
    "* les ensembles (*set*) : `ensemble = {0, \"abc\", 3.2}`\n",
    "* les dictionnaires (*dict*) : `dico = {\"1\" : 1, \"texte\": \"abc\", \"liste\": [0, 1.0, 2]}`\n",
    "\n",
    "Les opérations de comparaison sont déjà implémentées pour certains types de données :\n",
    "* `==` effectue l'égalité,\n",
    "* `!=` effectue l'inégalité,\n",
    "* `<` effectue la comparaison *strictement inférieur à*,\n",
    "* `=<` effectue la comparaison *inférieur ou égal à*,\n",
    "* `>` effectue la comparaison *strictement supérieur à*,\n",
    "* `>=` effectue la comparaison *supérieur ou égal à*."
   ]
  },
  {
   "cell_type": "code",
   "execution_count": 2,
   "id": "fe034241",
   "metadata": {},
   "outputs": [
    {
     "data": {
      "text/plain": [
       "False"
      ]
     },
     "execution_count": 2,
     "metadata": {},
     "output_type": "execute_result"
    }
   ],
   "source": [
    "a == b"
   ]
  },
  {
   "cell_type": "code",
   "execution_count": 3,
   "id": "e1f6babf",
   "metadata": {},
   "outputs": [
    {
     "data": {
      "text/plain": [
       "True"
      ]
     },
     "execution_count": 3,
     "metadata": {},
     "output_type": "execute_result"
    }
   ],
   "source": [
    "a != b"
   ]
  },
  {
   "cell_type": "code",
   "execution_count": 4,
   "id": "30f87063",
   "metadata": {},
   "outputs": [
    {
     "data": {
      "text/plain": [
       "True"
      ]
     },
     "execution_count": 4,
     "metadata": {},
     "output_type": "execute_result"
    }
   ],
   "source": [
    "a >= b"
   ]
  },
  {
   "cell_type": "markdown",
   "id": "063695c4",
   "metadata": {},
   "source": [
    "Les opérations mathématiques usuelles sont déjà implémentées pour les types mathématiques :\n",
    "* `+` effectue l'addition,\n",
    "* `-` effectue la soustraction,\n",
    "* `*` effectue la multiplication,\n",
    "* `/` effectue la division,\n",
    "* `**` effectue la puissance\n",
    "* `//` renvoie le quotient de la division euclidienne,\n",
    "* `%` effectue la reste de la division euclidienne."
   ]
  },
  {
   "cell_type": "code",
   "execution_count": 5,
   "id": "9a049c90",
   "metadata": {},
   "outputs": [
    {
     "data": {
      "text/plain": [
       "13"
      ]
     },
     "execution_count": 5,
     "metadata": {},
     "output_type": "execute_result"
    }
   ],
   "source": [
    "a + b"
   ]
  },
  {
   "cell_type": "code",
   "execution_count": 6,
   "id": "8c1ac64b",
   "metadata": {},
   "outputs": [
    {
     "data": {
      "text/plain": [
       "7"
      ]
     },
     "execution_count": 6,
     "metadata": {},
     "output_type": "execute_result"
    }
   ],
   "source": [
    "a - b"
   ]
  },
  {
   "cell_type": "code",
   "execution_count": 7,
   "id": "1309ddef",
   "metadata": {},
   "outputs": [
    {
     "data": {
      "text/plain": [
       "30"
      ]
     },
     "execution_count": 7,
     "metadata": {},
     "output_type": "execute_result"
    }
   ],
   "source": [
    "a * b"
   ]
  },
  {
   "cell_type": "code",
   "execution_count": 8,
   "id": "864507da",
   "metadata": {},
   "outputs": [
    {
     "data": {
      "text/plain": [
       "3.3333333333333335"
      ]
     },
     "execution_count": 8,
     "metadata": {},
     "output_type": "execute_result"
    }
   ],
   "source": [
    "a / b"
   ]
  },
  {
   "cell_type": "code",
   "execution_count": 9,
   "id": "06e0bbca",
   "metadata": {},
   "outputs": [
    {
     "data": {
      "text/plain": [
       "1000"
      ]
     },
     "execution_count": 9,
     "metadata": {},
     "output_type": "execute_result"
    }
   ],
   "source": [
    "a ** b"
   ]
  },
  {
   "cell_type": "code",
   "execution_count": 10,
   "id": "381586a5",
   "metadata": {},
   "outputs": [
    {
     "data": {
      "text/plain": [
       "3"
      ]
     },
     "execution_count": 10,
     "metadata": {},
     "output_type": "execute_result"
    }
   ],
   "source": [
    "a // b"
   ]
  },
  {
   "cell_type": "code",
   "execution_count": 11,
   "id": "bc968cc2",
   "metadata": {},
   "outputs": [
    {
     "data": {
      "text/plain": [
       "1"
      ]
     },
     "execution_count": 11,
     "metadata": {},
     "output_type": "execute_result"
    }
   ],
   "source": [
    "a % b"
   ]
  },
  {
   "cell_type": "markdown",
   "id": "42d8a7bd",
   "metadata": {},
   "source": [
    "## 2. Les boucles\n",
    "\n",
    "Il existe trois principaux types de boucles :\n",
    "* les boucles *if elif else* (si, sinon si, sinon) pour exécuter du code différent en fonction de conditions,\n",
    "* les boucles *for* (pour) pour itérer sur un objet itérable,\n",
    "* les boucles *while* pour itérer tant qu'une condition est vraie."
   ]
  },
  {
   "cell_type": "code",
   "execution_count": 12,
   "id": "328279b0",
   "metadata": {},
   "outputs": [
    {
     "name": "stdout",
     "output_type": "stream",
     "text": [
      "3 ne divise pas 10\n"
     ]
    }
   ],
   "source": [
    "if a % b == 0:\n",
    "    print(f\"{b} divise {a}\")\n",
    "else:\n",
    "    print(f\"{b} ne divise pas {a}\")"
   ]
  },
  {
   "cell_type": "code",
   "execution_count": 13,
   "id": "c9799678",
   "metadata": {},
   "outputs": [
    {
     "name": "stdout",
     "output_type": "stream",
     "text": [
      "(3 - 0) ** 10 = 59049\n",
      "(3 - 1) ** 10 = 1024\n",
      "(3 - 2) ** 10 = 1\n",
      "(3 - 3) ** 10 = 0\n",
      "(3 - 4) ** 10 = 1\n",
      "(3 - 5) ** 10 = 1024\n",
      "(3 - 6) ** 10 = 59049\n",
      "(3 - 7) ** 10 = 1048576\n",
      "(3 - 8) ** 10 = 9765625\n",
      "(3 - 9) ** 10 = 60466176\n",
      "(3 - 10) ** 10 = 282475249\n",
      "(3 - 11) ** 10 = 1073741824\n",
      "(3 - 12) ** 10 = 3486784401\n",
      "(3 - 13) ** 10 = 10000000000\n",
      "(3 - 14) ** 10 = 25937424601\n",
      "(3 - 15) ** 10 = 61917364224\n",
      "(3 - 16) ** 10 = 137858491849\n",
      "(3 - 17) ** 10 = 289254654976\n",
      "(3 - 18) ** 10 = 576650390625\n",
      "(3 - 19) ** 10 = 1099511627776\n"
     ]
    }
   ],
   "source": [
    "for i in range(20):  # Pour i allant de 0 (inclus) à 20 (exclu)\n",
    "    print(f\"({b} - {i}) ** {a} = {(b - i) ** a}\")"
   ]
  },
  {
   "cell_type": "code",
   "execution_count": 14,
   "id": "bc6bfbb3",
   "metadata": {},
   "outputs": [
    {
     "name": "stdout",
     "output_type": "stream",
     "text": [
      "Le plus petit entier supérieur ou égal à 10 divisible par 3 est 12.\n"
     ]
    }
   ],
   "source": [
    "# Quel est le plus petit entier supérieur ou égal à 10 divisible par 3 ?\n",
    "i = 10\n",
    "condition = (i % b != 0)\n",
    "while condition:\n",
    "    i += 1\n",
    "    condition = (i % b != 0)\n",
    "print(f\"Le plus petit entier supérieur ou égal à {a} divisible par {b} est {i}.\")"
   ]
  },
  {
   "cell_type": "markdown",
   "id": "f7c70a5d",
   "metadata": {},
   "source": [
    "## 3. Les fonctions\n",
    "\n",
    "Une fonction Python se définie grâce au mot clé `def`.\n",
    "On indique ensuite le nom de la fonction et ses éventuels arguments entre parenthèses et séparés par des virgules, et enfin un deux points.\n",
    "On implémente ensuite les différentes instructions de la fonction.\n",
    "Enfin, on utilise le mot clé `return` pour indiquer les variables renvoyées par la fonction."
   ]
  },
  {
   "cell_type": "code",
   "execution_count": 15,
   "id": "dc8608f6",
   "metadata": {},
   "outputs": [],
   "source": [
    "def plus_grand_commun_diviseur(a, b):\n",
    "    \"\"\"Algorithme d'Euclide renvoyant le PGCD entre deux entiers.\"\"\"\n",
    "    while a % b != 0:\n",
    "        a, b = b, a % b\n",
    "    return b"
   ]
  },
  {
   "cell_type": "code",
   "execution_count": 16,
   "id": "db3494f9",
   "metadata": {},
   "outputs": [
    {
     "data": {
      "text/plain": [
       "3"
      ]
     },
     "execution_count": 16,
     "metadata": {},
     "output_type": "execute_result"
    }
   ],
   "source": [
    "plus_grand_commun_diviseur(456, 123)"
   ]
  },
  {
   "cell_type": "code",
   "execution_count": 17,
   "id": "89ff0b02",
   "metadata": {},
   "outputs": [
    {
     "data": {
      "text/plain": [
       "1"
      ]
     },
     "execution_count": 17,
     "metadata": {},
     "output_type": "execute_result"
    }
   ],
   "source": [
    "plus_grand_commun_diviseur(4567, 1234)"
   ]
  },
  {
   "cell_type": "code",
   "execution_count": 18,
   "id": "288b2a76",
   "metadata": {},
   "outputs": [
    {
     "data": {
      "text/plain": [
       "256"
      ]
     },
     "execution_count": 18,
     "metadata": {},
     "output_type": "execute_result"
    }
   ],
   "source": [
    "plus_grand_commun_diviseur(1024, 256)"
   ]
  },
  {
   "cell_type": "markdown",
   "id": "bd1f9f94",
   "metadata": {},
   "source": [
    "## 4. Les classes\n",
    "\n",
    "La programmation orientée objet permet de créer des objets qui ont des caractéristiques (appelées **attributs**) et des fonctionnalités (appelées **méthodes**) qui sont propres à leur type d'objets, appelée **classe**.\n",
    "\n",
    "La cellule ci-dessous définit une classe appelée `Fraction` qui a :\n",
    "* comme attributs : `num` et `denom`\n",
    "* comme méthodes : `__init__()` et `add()`"
   ]
  },
  {
   "cell_type": "code",
   "execution_count": 19,
   "id": "11eb2b07",
   "metadata": {},
   "outputs": [],
   "source": [
    "class Frac:\n",
    "    \"\"\"Une fraction avec un numérateur et un dénominateur.\"\"\"\n",
    "    def __init__(self, num, denom):\n",
    "        self.num = num\n",
    "        self.denom = denom\n",
    "\n",
    "    def add(self, f):\n",
    "        numerateur = self.num * f.denom + f.num * self.denom\n",
    "        denominateur = self.denom * f.denom\n",
    "        return Frac(numerateur, denominateur)"
   ]
  },
  {
   "cell_type": "markdown",
   "id": "8ac696f0",
   "metadata": {},
   "source": [
    "On remarquera que :\n",
    "    \n",
    "* le mot clé pour définir une classe est `class`,\n",
    "* la méthode pour créer des objets, c'est-à-dire le constructeur, est la méthode spéciale `__init__()`,\n",
    "* les attributs `num` et `denom` sont définis dans le constructeur avec le code `self.num = num` et `self.denom = denom`, grâce aux arguments fournis au constructeur `num` et `denom`,\n",
    "* la méthode `add()` permet d'ajouter une fraction à une autre.\n",
    "\n",
    "Testons les fonctionnalités de notre classe."
   ]
  },
  {
   "cell_type": "code",
   "execution_count": 20,
   "id": "e81758f7",
   "metadata": {},
   "outputs": [
    {
     "data": {
      "text/plain": [
       "<__main__.Frac at 0x1045ba6e0>"
      ]
     },
     "execution_count": 20,
     "metadata": {},
     "output_type": "execute_result"
    }
   ],
   "source": [
    "f1 = Frac(1, 3)\n",
    "f2 = Frac(7, 13)\n",
    "f1.add(f2)"
   ]
  },
  {
   "cell_type": "markdown",
   "id": "008ea736",
   "metadata": {},
   "source": [
    "On a créé deux objets de la classe `Frac` avec des valeurs différentes pour les arguments `num` et `denom`. On a pu ajouter la deuxième fraction à la première, mais le résultat affiché n'est pas très parlant. C'est parce que avoir un objet comme dernière ligne de code dans une cellule renvoie la représentation officielle de cet objet, et que nous n'avons pas redéfini cette méthode.\n",
    "\n",
    "Essayons de faire la somme des deux fractions avec la syntaxe qu'on utiliserait pour sommer des entiers ou des nombres flottants."
   ]
  },
  {
   "cell_type": "code",
   "execution_count": 21,
   "id": "4da55f5e",
   "metadata": {},
   "outputs": [
    {
     "ename": "TypeError",
     "evalue": "unsupported operand type(s) for +: 'Frac' and 'Frac'",
     "output_type": "error",
     "traceback": [
      "\u001b[0;31m---------------------------------------------------------------------------\u001b[0m",
      "\u001b[0;31mTypeError\u001b[0m                                 Traceback (most recent call last)",
      "Cell \u001b[0;32mIn[21], line 1\u001b[0m\n\u001b[0;32m----> 1\u001b[0m \u001b[43mf1\u001b[49m\u001b[43m \u001b[49m\u001b[38;5;241;43m+\u001b[39;49m\u001b[43m \u001b[49m\u001b[43mf2\u001b[49m\n",
      "\u001b[0;31mTypeError\u001b[0m: unsupported operand type(s) for +: 'Frac' and 'Frac'"
     ]
    }
   ],
   "source": [
    "f1 + f2"
   ]
  },
  {
   "cell_type": "markdown",
   "id": "f282dc6a",
   "metadata": {},
   "source": [
    "Une erreur est levée, indiquant que l'opération `+` entre un objet `Frac` et un autre objet `Frac` n'est pas définie. En effet, pour utiliser la syntaxe usuelle des opérations mathématiques, il faut définir les méthodes spéciales correspondantes. Par exemple :\n",
    "\n",
    "* `__add__()` définit l'addition : `+`\n",
    "* `__sub__()` définit la soustraction : `-`\n",
    "* `__neg__()` définit la négation : `-`\n",
    "* `__mul__()` définit la multiplication : `*`\n",
    "* `__truediv__()` définit la division : `/`\n",
    "\n",
    "Il existe également des méthodes spéciales sans lien avec les opérations mathématiques, telles que :\n",
    "\n",
    "* `__str__()` définit la représentation informelle, utilisée notamment par `print()` et `str()`,\n",
    "* `__repr__()` définit la représentation officielle, utilisée notamment par `repr()`,\n",
    "* `__len__()` définit la longueur, utilisée par `len()`.\n",
    "\n",
    "Voici une nouvelle version de la classe `Frac` avec davantage de fonctionnalités :"
   ]
  },
  {
   "cell_type": "code",
   "execution_count": 22,
   "id": "49f0c8cb",
   "metadata": {},
   "outputs": [],
   "source": [
    "import math\n",
    "\n",
    "\n",
    "class Frac:\n",
    "    \"\"\"Une fraction avec un numérateur et un dénominateur.\"\"\"\n",
    "    def __init__(self, num, denom):\n",
    "        self.num = num\n",
    "        self.denom = denom\n",
    "        self.gcd = math.gcd(num, denom)\n",
    "\n",
    "    def __add__(self, other):\n",
    "        if isinstance(other, Frac):\n",
    "            num = self.num * other.denom + other.num * self.denom\n",
    "            denom = self.denom * other.denom\n",
    "            return Frac(num, denom)\n",
    "        else:\n",
    "            return NotImplemented\n",
    "\n",
    "    def __neg__(self):\n",
    "        return Frac(-self.num, self.denom)\n",
    "\n",
    "    def __sub__(self, other):\n",
    "        if isinstance(other, Frac):\n",
    "            return self + -other\n",
    "        else:\n",
    "            return NotImplemented\n",
    "\n",
    "    def __mul__(self, other):\n",
    "        if isinstance(other, Frac):\n",
    "            return Frac(self.num * other.num, self.denom * other.denom)\n",
    "        else:\n",
    "            return NotImplemented\n",
    "\n",
    "    def __str__(self):\n",
    "        return f\"{self.num} / {self.denom}\"\n",
    "\n",
    "    def __repr__(self):\n",
    "        return f\"Frac({self.num}, {self.denom})\"\n",
    "\n",
    "    def simplifier(self):\n",
    "        return Frac(self.num // self.gcd, self.denom // self.gcd)"
   ]
  },
  {
   "cell_type": "code",
   "execution_count": 23,
   "id": "2512bc53",
   "metadata": {},
   "outputs": [],
   "source": [
    "f1 = Frac(3, 9)\n",
    "f2 = Frac(2, 12)"
   ]
  },
  {
   "cell_type": "code",
   "execution_count": 24,
   "id": "40adddc3",
   "metadata": {},
   "outputs": [
    {
     "data": {
      "text/plain": [
       "Frac(54, 108)"
      ]
     },
     "execution_count": 24,
     "metadata": {},
     "output_type": "execute_result"
    }
   ],
   "source": [
    "f1 + f2"
   ]
  },
  {
   "cell_type": "code",
   "execution_count": 25,
   "id": "da962b2c",
   "metadata": {},
   "outputs": [
    {
     "data": {
      "text/plain": [
       "Frac(1, 2)"
      ]
     },
     "execution_count": 25,
     "metadata": {},
     "output_type": "execute_result"
    }
   ],
   "source": [
    "(f1 + f2).simplifier()"
   ]
  },
  {
   "cell_type": "code",
   "execution_count": 26,
   "id": "b9083348",
   "metadata": {},
   "outputs": [
    {
     "name": "stdout",
     "output_type": "stream",
     "text": [
      "18 / 108\n"
     ]
    }
   ],
   "source": [
    "print(f1 - f2)"
   ]
  }
 ],
 "metadata": {
  "kernelspec": {
   "display_name": "Python 3 (ipykernel)",
   "language": "python",
   "name": "python3"
  },
  "language_info": {
   "codemirror_mode": {
    "name": "ipython",
    "version": 3
   },
   "file_extension": ".py",
   "mimetype": "text/x-python",
   "name": "python",
   "nbconvert_exporter": "python",
   "pygments_lexer": "ipython3",
   "version": "3.10.13"
  }
 },
 "nbformat": 4,
 "nbformat_minor": 5
}
